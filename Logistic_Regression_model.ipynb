{
 "cells": [
  {
   "cell_type": "markdown",
   "id": "e88fcee1-a582-4826-bb07-26a4ac38b22e",
   "metadata": {},
   "source": [
    "### Model 1"
   ]
  },
  {
   "cell_type": "code",
   "execution_count": 1,
   "id": "97ca79c1-62aa-4c07-b018-ca841ca631d8",
   "metadata": {},
   "outputs": [],
   "source": [
    "# imports\n",
    "import pandas as pd\n",
    "from sklearn.neighbors import KNeighborsClassifier\n",
    "from sklearn.model_selection import train_test_split, GridSearchCV\n",
    "from sklearn.linear_model import LogisticRegression\n",
    "from sklearn.feature_extraction.text import CountVectorizer, TfidfVectorizer\n",
    "from sklearn.pipeline import Pipeline\n",
    "from sklearn.metrics import plot_confusion_matrix\n",
    "import sklearn.metrics as metrics\n",
    "from sklearn.pipeline import FeatureUnion\n",
    "from sklearn.preprocessing import FunctionTransformer"
   ]
  },
  {
   "cell_type": "code",
   "execution_count": 2,
   "id": "d065e431-ffb6-4ef1-82b9-9dfc3a8cb86a",
   "metadata": {},
   "outputs": [],
   "source": [
    "df = pd.read_csv('./Data/subreddit_data_post_eda.csv')"
   ]
  },
  {
   "cell_type": "code",
   "execution_count": 3,
   "id": "734fcf6a-4fe4-49fc-b9e9-1052be4eabdf",
   "metadata": {},
   "outputs": [
    {
     "data": {
      "text/html": [
       "<div>\n",
       "<style scoped>\n",
       "    .dataframe tbody tr th:only-of-type {\n",
       "        vertical-align: middle;\n",
       "    }\n",
       "\n",
       "    .dataframe tbody tr th {\n",
       "        vertical-align: top;\n",
       "    }\n",
       "\n",
       "    .dataframe thead th {\n",
       "        text-align: right;\n",
       "    }\n",
       "</style>\n",
       "<table border=\"1\" class=\"dataframe\">\n",
       "  <thead>\n",
       "    <tr style=\"text-align: right;\">\n",
       "      <th></th>\n",
       "      <th>title</th>\n",
       "      <th>selftext</th>\n",
       "      <th>subreddit</th>\n",
       "      <th>title_length</th>\n",
       "      <th>title_word_count</th>\n",
       "      <th>sentiment_compound</th>\n",
       "      <th>sentiment_negative</th>\n",
       "      <th>sentiment_neutral</th>\n",
       "      <th>sentiment_positive</th>\n",
       "    </tr>\n",
       "  </thead>\n",
       "  <tbody>\n",
       "    <tr>\n",
       "      <th>0</th>\n",
       "      <td>I was suggested to post this puzzle here ,hope...</td>\n",
       "      <td>NaN</td>\n",
       "      <td>0</td>\n",
       "      <td>65</td>\n",
       "      <td>14</td>\n",
       "      <td>0.8126</td>\n",
       "      <td>0.000</td>\n",
       "      <td>0.543</td>\n",
       "      <td>0.457</td>\n",
       "    </tr>\n",
       "    <tr>\n",
       "      <th>1</th>\n",
       "      <td>Programs for analyzing and annotating my games</td>\n",
       "      <td>Hi all, \\n\\n&amp;amp;#x200B;\\n\\nI am starting to t...</td>\n",
       "      <td>0</td>\n",
       "      <td>46</td>\n",
       "      <td>7</td>\n",
       "      <td>0.0000</td>\n",
       "      <td>0.000</td>\n",
       "      <td>1.000</td>\n",
       "      <td>0.000</td>\n",
       "    </tr>\n",
       "    <tr>\n",
       "      <th>2</th>\n",
       "      <td>Who is GM Watneg on lichess?</td>\n",
       "      <td>NaN</td>\n",
       "      <td>0</td>\n",
       "      <td>28</td>\n",
       "      <td>6</td>\n",
       "      <td>0.0000</td>\n",
       "      <td>0.000</td>\n",
       "      <td>1.000</td>\n",
       "      <td>0.000</td>\n",
       "    </tr>\n",
       "    <tr>\n",
       "      <th>3</th>\n",
       "      <td>Glitch in Lichess Analysis</td>\n",
       "      <td>&amp;amp;#x200B;\\n\\n[I was playing a game continua...</td>\n",
       "      <td>0</td>\n",
       "      <td>26</td>\n",
       "      <td>4</td>\n",
       "      <td>0.0000</td>\n",
       "      <td>0.000</td>\n",
       "      <td>1.000</td>\n",
       "      <td>0.000</td>\n",
       "    </tr>\n",
       "    <tr>\n",
       "      <th>4</th>\n",
       "      <td>Does anyone know what the heck a zero day that...</td>\n",
       "      <td>Someone sent me something weird about correlat...</td>\n",
       "      <td>0</td>\n",
       "      <td>162</td>\n",
       "      <td>34</td>\n",
       "      <td>-0.5043</td>\n",
       "      <td>0.121</td>\n",
       "      <td>0.879</td>\n",
       "      <td>0.000</td>\n",
       "    </tr>\n",
       "  </tbody>\n",
       "</table>\n",
       "</div>"
      ],
      "text/plain": [
       "                                               title  \\\n",
       "0  I was suggested to post this puzzle here ,hope...   \n",
       "1     Programs for analyzing and annotating my games   \n",
       "2                       Who is GM Watneg on lichess?   \n",
       "3                         Glitch in Lichess Analysis   \n",
       "4  Does anyone know what the heck a zero day that...   \n",
       "\n",
       "                                            selftext  subreddit  title_length  \\\n",
       "0                                                NaN          0            65   \n",
       "1  Hi all, \\n\\n&amp;#x200B;\\n\\nI am starting to t...          0            46   \n",
       "2                                                NaN          0            28   \n",
       "3  &amp;#x200B;\\n\\n[I was playing a game continua...          0            26   \n",
       "4  Someone sent me something weird about correlat...          0           162   \n",
       "\n",
       "   title_word_count  sentiment_compound  sentiment_negative  \\\n",
       "0                14              0.8126               0.000   \n",
       "1                 7              0.0000               0.000   \n",
       "2                 6              0.0000               0.000   \n",
       "3                 4              0.0000               0.000   \n",
       "4                34             -0.5043               0.121   \n",
       "\n",
       "   sentiment_neutral  sentiment_positive  \n",
       "0              0.543               0.457  \n",
       "1              1.000               0.000  \n",
       "2              1.000               0.000  \n",
       "3              1.000               0.000  \n",
       "4              0.879               0.000  "
      ]
     },
     "execution_count": 3,
     "metadata": {},
     "output_type": "execute_result"
    }
   ],
   "source": [
    "df.head()"
   ]
  },
  {
   "cell_type": "code",
   "execution_count": null,
   "id": "90534a56-8531-497e-bfac-f3c4f4f77f7b",
   "metadata": {},
   "outputs": [],
   "source": []
  },
  {
   "cell_type": "code",
   "execution_count": 4,
   "id": "a8244c61-443f-44de-8d20-6f0f9dd89a89",
   "metadata": {},
   "outputs": [
    {
     "data": {
      "text/plain": [
       "1    0.500375\n",
       "0    0.499625\n",
       "Name: subreddit, dtype: float64"
      ]
     },
     "execution_count": 4,
     "metadata": {},
     "output_type": "execute_result"
    }
   ],
   "source": [
    "# Baseline Model.  We need to beat 50%.\n",
    "df['subreddit'].value_counts(normalize = True)"
   ]
  },
  {
   "cell_type": "code",
   "execution_count": 6,
   "id": "b6fc264a-bf13-4bea-8e65-fd408d6ff3ea",
   "metadata": {},
   "outputs": [],
   "source": [
    "# Create X and Y for CountVectorizer\n",
    "\n",
    "X = df.drop(columns = ['subreddit'])\n",
    "y = df['subreddit']"
   ]
  },
  {
   "cell_type": "code",
   "execution_count": 7,
   "id": "1453d53f-038b-4a15-a27d-ede4590f8de2",
   "metadata": {},
   "outputs": [],
   "source": [
    "# Train Test Split\n",
    "\n",
    "X_train, X_test, y_train, y_test = train_test_split(X, y, random_state = 42)"
   ]
  },
  {
   "cell_type": "code",
   "execution_count": 8,
   "id": "a31ec070-df2d-4516-b172-2fcc47f774e5",
   "metadata": {},
   "outputs": [],
   "source": [
    "def get_title(df):\n",
    "    return df['title']\n",
    "\n",
    "get_title_transformer = FunctionTransformer(get_title, validate = False)"
   ]
  },
  {
   "cell_type": "code",
   "execution_count": 9,
   "id": "d8d7abc8-487d-4e77-98da-abc79d887f3d",
   "metadata": {},
   "outputs": [],
   "source": [
    "def other_columns(df):\n",
    "    return df[['title_length', 'sentiment_compound', 'title_word_count']]\n",
    "\n",
    "get_columns_transformer = FunctionTransformer(other_columns, validate = False)"
   ]
  },
  {
   "cell_type": "code",
   "execution_count": 10,
   "id": "dc978924-9b7c-44c2-8842-a94d7b8c9af5",
   "metadata": {},
   "outputs": [],
   "source": [
    "# Create Pipeline\n",
    "\n",
    "pipe_cv = Pipeline([\n",
    "    ('title_transform', get_title_transformer),\n",
    "    ('vect', CountVectorizer())\n",
    "])"
   ]
  },
  {
   "cell_type": "code",
   "execution_count": 11,
   "id": "944dc4bc-f909-4bae-91d6-1dc4e7e4ce84",
   "metadata": {},
   "outputs": [],
   "source": [
    "outer_pipe = Pipeline([\n",
    "    ('feats', FeatureUnion([\n",
    "        ('vect_pipe', pipe_cv),\n",
    "        ('other_cols', get_columns_transformer)\n",
    "    ])),\n",
    "    ('model', LogisticRegression())\n",
    "])"
   ]
  },
  {
   "cell_type": "code",
   "execution_count": 12,
   "id": "b2644459-128f-437c-ae8e-22affae580b6",
   "metadata": {
    "tags": []
   },
   "outputs": [
    {
     "name": "stdout",
     "output_type": "stream",
     "text": [
      "0.935265998887034\n"
     ]
    },
    {
     "data": {
      "text/plain": [
       "{'feats__vect_pipe__vect__max_df': 0.9,\n",
       " 'feats__vect_pipe__vect__max_features': None,\n",
       " 'feats__vect_pipe__vect__min_df': 2,\n",
       " 'model__max_iter': 1000}"
      ]
     },
     "execution_count": 12,
     "metadata": {},
     "output_type": "execute_result"
    }
   ],
   "source": [
    "param_grid = {\n",
    "    'model__max_iter': [1000],\n",
    "    'feats__vect_pipe__vect__max_features': [None, 4000, 5000],\n",
    "    'feats__vect_pipe__vect__min_df' : [2,3],\n",
    "    'feats__vect_pipe__vect__max_df' : [.90],\n",
    "    #'feats__vect_pipe__vect__ngram_range' : [(1,1),(1,2)]\n",
    "    #'feats__vect_pipe__vect__token_pattern': ['(?u)\\\\b\\\\w\\\\w+\\\\b', '[A-Z][a-z]+']\n",
    "}\n",
    "gs = GridSearchCV(outer_pipe, param_grid=param_grid)\n",
    "gs.fit(X_train, y_train)\n",
    "print(gs.best_score_)\n",
    "gs.best_params_"
   ]
  },
  {
   "cell_type": "code",
   "execution_count": 13,
   "id": "7bbb027d-953a-440c-a8b9-4988feb94166",
   "metadata": {},
   "outputs": [
    {
     "data": {
      "text/plain": [
       "array([[-0.28377789, -0.13136288, -0.06332175, ...,  0.00419584,\n",
       "         0.0643139 ,  0.09694436]])"
      ]
     },
     "execution_count": 13,
     "metadata": {},
     "output_type": "execute_result"
    }
   ],
   "source": [
    "# Investigate coefficients (remember bc of logreg, we'll ultimately have to np.exp them)\n",
    "\n",
    "gs.best_estimator_.named_steps['model'].coef_\n",
    "\n",
    "# got the coefficients, now need the feature names before zipping them together."
   ]
  },
  {
   "cell_type": "code",
   "execution_count": 13,
   "id": "fb48e2e0-0269-40bb-b3c7-fdc33b588a97",
   "metadata": {},
   "outputs": [
    {
     "ename": "AttributeError",
     "evalue": "'FeatureUnion' object has no attribute 'get_support'",
     "output_type": "error",
     "traceback": [
      "\u001b[1;31m---------------------------------------------------------------------------\u001b[0m",
      "\u001b[1;31mAttributeError\u001b[0m                            Traceback (most recent call last)",
      "\u001b[1;32m~\\AppData\\Local\\Temp/ipykernel_15084/3161987441.py\u001b[0m in \u001b[0;36m<module>\u001b[1;34m\u001b[0m\n\u001b[0;32m      1\u001b[0m \u001b[1;31m# How do i get feature names of all the columns created by the CountVectorizer??\u001b[0m\u001b[1;33m\u001b[0m\u001b[1;33m\u001b[0m\u001b[0m\n\u001b[1;32m----> 2\u001b[1;33m \u001b[0mgs\u001b[0m\u001b[1;33m.\u001b[0m\u001b[0mbest_estimator_\u001b[0m\u001b[1;33m.\u001b[0m\u001b[0mnamed_steps\u001b[0m\u001b[1;33m[\u001b[0m\u001b[1;34m'feats'\u001b[0m\u001b[1;33m]\u001b[0m\u001b[1;33m.\u001b[0m\u001b[0mget_support\u001b[0m\u001b[1;33m(\u001b[0m\u001b[0mindices\u001b[0m\u001b[1;33m=\u001b[0m\u001b[1;32mTrue\u001b[0m\u001b[1;33m)\u001b[0m\u001b[1;33m\u001b[0m\u001b[1;33m\u001b[0m\u001b[0m\n\u001b[0m",
      "\u001b[1;31mAttributeError\u001b[0m: 'FeatureUnion' object has no attribute 'get_support'"
     ]
    }
   ],
   "source": [
    "# How do i get feature names of all the columns created by the CountVectorizer??\n",
    "gs.best_estimator_.named_steps['feats'].get_support(indices=True)"
   ]
  },
  {
   "cell_type": "markdown",
   "id": "39054202-c3bf-4851-8c26-ad44bd21160d",
   "metadata": {},
   "source": [
    "### Try a Bagging Classifier?"
   ]
  },
  {
   "cell_type": "code",
   "execution_count": null,
   "id": "372b8c44-e265-43f2-8779-4c8b134149de",
   "metadata": {},
   "outputs": [],
   "source": [
    "# Instantiate BaggingClassifier.\n",
    "bag = BaggingClassifier(base_estimator = DecisionTreeClassifier())\n",
    "# Fit BaggingClassifier.\n",
    "bag.fit(X_train, y_train) # whole for loop that we did earlier, its happening here in this one line of code\n",
    "# Score BaggingClassifier.\n",
    "bag.score(X_test, y_test)"
   ]
  },
  {
   "cell_type": "code",
   "execution_count": null,
   "id": "42ed1cc4-a40a-40ac-8b19-59b62871b920",
   "metadata": {},
   "outputs": [],
   "source": []
  },
  {
   "cell_type": "markdown",
   "id": "8485335c-45bf-4faa-9056-f4ba6a80d04f",
   "metadata": {
    "tags": []
   },
   "source": [
    "### Model Evaluation"
   ]
  },
  {
   "cell_type": "code",
   "execution_count": 12,
   "id": "1fb23e1a-cb77-4134-80e2-39ba5227b451",
   "metadata": {},
   "outputs": [
    {
     "data": {
      "text/plain": [
       "<sklearn.metrics._plot.confusion_matrix.ConfusionMatrixDisplay at 0x27ad26e4430>"
      ]
     },
     "execution_count": 12,
     "metadata": {},
     "output_type": "execute_result"
    },
    {
     "data": {
      "image/png": "[encoded data removed]",
      "text/plain": [
       "<Figure size 432x288 with 2 Axes>"
      ]
     },
     "metadata": {
      "needs_background": "light"
     },
     "output_type": "display_data"
    }
   ],
   "source": [
    "plot_confusion_matrix(gs, X_test, y_test)"
   ]
  },
  {
   "cell_type": "code",
   "execution_count": 13,
   "id": "dad2d576-08bd-4ec1-a024-c622a23da99f",
   "metadata": {},
   "outputs": [],
   "source": [
    "# Make predictions\n",
    "predictions = gs.predict(X_test)"
   ]
  },
  {
   "cell_type": "code",
   "execution_count": 14,
   "id": "534b4f6b-87bd-4e9b-a4d9-16e30cd9e6b3",
   "metadata": {},
   "outputs": [
    {
     "name": "stdout",
     "output_type": "stream",
     "text": [
      "              precision    recall  f1-score   support\n",
      "\n",
      "           0       0.92      0.95      0.94       519\n",
      "           1       0.95      0.91      0.93       481\n",
      "\n",
      "    accuracy                           0.94      1000\n",
      "   macro avg       0.94      0.93      0.93      1000\n",
      "weighted avg       0.94      0.94      0.93      1000\n",
      "\n"
     ]
    }
   ],
   "source": [
    "from sklearn.metrics import classification_report\n",
    "print(classification_report(y_test, predictions))"
   ]
  },
  {
   "cell_type": "code",
   "execution_count": 15,
   "id": "9a7d3adb-a33c-4a38-ab47-2553a7befac2",
   "metadata": {},
   "outputs": [
    {
     "data": {
      "image/png": "[encoded data removed]",
      "text/plain": [
       "<Figure size 432x288 with 1 Axes>"
      ]
     },
     "metadata": {
      "needs_background": "light"
     },
     "output_type": "display_data"
    }
   ],
   "source": [
    "from sklearn.metrics import plot_roc_curve\n",
    "\n",
    "plot_roc_curve(gs, X_test, y_test);"
   ]
  }
 ],
 "metadata": {
  "kernelspec": {
   "display_name": "Python 3 (ipykernel)",
   "language": "python",
   "name": "python3"
  },
  "language_info": {
   "codemirror_mode": {
    "name": "ipython",
    "version": 3
   },
   "file_extension": ".py",
   "mimetype": "text/x-python",
   "name": "python",
   "nbconvert_exporter": "python",
   "pygments_lexer": "ipython3",
   "version": "3.9.7"
  }
 },
 "nbformat": 4,
 "nbformat_minor": 5
}
