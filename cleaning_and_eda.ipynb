{
 "cells": [
  {
   "cell_type": "markdown",
   "id": "33ebc888-272b-41ec-9364-0f42d9a0a76c",
   "metadata": {
    "tags": []
   },
   "source": [
    "### Cleaning"
   ]
  },
  {
   "cell_type": "code",
   "execution_count": 1,
   "id": "bc6288da-161a-4124-b189-986fc0e8226e",
   "metadata": {},
   "outputs": [],
   "source": [
    "import pandas as pd\n",
    "import numpy as np\n",
    "import requests\n",
    "import time\n",
    "import matplotlib.pyplot as plt"
   ]
  },
  {
   "cell_type": "code",
   "execution_count": 2,
   "id": "24f8f79e-d781-49c1-b0a2-2e10e0dbd310",
   "metadata": {},
   "outputs": [],
   "source": [
    "df = pd.read_csv('./Data/subreddit_data.csv')"
   ]
  },
  {
   "cell_type": "code",
   "execution_count": 3,
   "id": "e486fa6a-60aa-4dcf-9661-3c7d882cf129",
   "metadata": {},
   "outputs": [
    {
     "data": {
      "text/html": [
       "<div>\n",
       "<style scoped>\n",
       "    .dataframe tbody tr th:only-of-type {\n",
       "        vertical-align: middle;\n",
       "    }\n",
       "\n",
       "    .dataframe tbody tr th {\n",
       "        vertical-align: top;\n",
       "    }\n",
       "\n",
       "    .dataframe thead th {\n",
       "        text-align: right;\n",
       "    }\n",
       "</style>\n",
       "<table border=\"1\" class=\"dataframe\">\n",
       "  <thead>\n",
       "    <tr style=\"text-align: right;\">\n",
       "      <th></th>\n",
       "      <th>Unnamed: 0</th>\n",
       "      <th>title</th>\n",
       "      <th>selftext</th>\n",
       "      <th>subreddit</th>\n",
       "      <th>created_utc</th>\n",
       "    </tr>\n",
       "  </thead>\n",
       "  <tbody>\n",
       "    <tr>\n",
       "      <th>0</th>\n",
       "      <td>0</td>\n",
       "      <td>I was suggested to post this puzzle here ,hope...</td>\n",
       "      <td>NaN</td>\n",
       "      <td>chess</td>\n",
       "      <td>1645890879</td>\n",
       "    </tr>\n",
       "    <tr>\n",
       "      <th>1</th>\n",
       "      <td>1</td>\n",
       "      <td>Programs for analyzing and annotating my games</td>\n",
       "      <td>Hi all, \\n\\n&amp;amp;#x200B;\\n\\nI am starting to t...</td>\n",
       "      <td>chess</td>\n",
       "      <td>1645889769</td>\n",
       "    </tr>\n",
       "    <tr>\n",
       "      <th>2</th>\n",
       "      <td>2</td>\n",
       "      <td>Who is GM Watneg on lichess?</td>\n",
       "      <td>NaN</td>\n",
       "      <td>chess</td>\n",
       "      <td>1645887353</td>\n",
       "    </tr>\n",
       "    <tr>\n",
       "      <th>3</th>\n",
       "      <td>3</td>\n",
       "      <td>Glitch in Lichess Analysis</td>\n",
       "      <td>&amp;amp;#x200B;\\n\\n[I was playing a game continua...</td>\n",
       "      <td>chess</td>\n",
       "      <td>1645886429</td>\n",
       "    </tr>\n",
       "    <tr>\n",
       "      <th>4</th>\n",
       "      <td>4</td>\n",
       "      <td>Does anyone know what the heck a zero day that...</td>\n",
       "      <td>Someone sent me something weird about correlat...</td>\n",
       "      <td>chess</td>\n",
       "      <td>1645885215</td>\n",
       "    </tr>\n",
       "  </tbody>\n",
       "</table>\n",
       "</div>"
      ],
      "text/plain": [
       "   Unnamed: 0                                              title  \\\n",
       "0           0  I was suggested to post this puzzle here ,hope...   \n",
       "1           1     Programs for analyzing and annotating my games   \n",
       "2           2                       Who is GM Watneg on lichess?   \n",
       "3           3                         Glitch in Lichess Analysis   \n",
       "4           4  Does anyone know what the heck a zero day that...   \n",
       "\n",
       "                                            selftext subreddit  created_utc  \n",
       "0                                                NaN     chess   1645890879  \n",
       "1  Hi all, \\n\\n&amp;#x200B;\\n\\nI am starting to t...     chess   1645889769  \n",
       "2                                                NaN     chess   1645887353  \n",
       "3  &amp;#x200B;\\n\\n[I was playing a game continua...     chess   1645886429  \n",
       "4  Someone sent me something weird about correlat...     chess   1645885215  "
      ]
     },
     "execution_count": 3,
     "metadata": {},
     "output_type": "execute_result"
    }
   ],
   "source": [
    "df.head()"
   ]
  },
  {
   "cell_type": "code",
   "execution_count": 4,
   "id": "a911504f-b90f-4548-8a2e-5b1aac377197",
   "metadata": {},
   "outputs": [],
   "source": [
    "# Binarize the subreddit column to 0s (chess) and 1 (nba).  Doesn't matter what the positive class is.  Baseline Model will be ~50% accurate either way.\n",
    "\n",
    "df['subreddit'] = df['subreddit'].replace({'chess': 0, 'nba':1})"
   ]
  },
  {
   "cell_type": "code",
   "execution_count": 5,
   "id": "9bdf6fe0-2ffa-4a42-baa8-ddfbd9c9ff0d",
   "metadata": {},
   "outputs": [
    {
     "data": {
      "text/plain": [
       "Unnamed: 0        0\n",
       "title             0\n",
       "selftext       1761\n",
       "subreddit         0\n",
       "created_utc       0\n",
       "dtype: int64"
      ]
     },
     "execution_count": 5,
     "metadata": {},
     "output_type": "execute_result"
    }
   ],
   "source": [
    "df.isnull().sum()"
   ]
  },
  {
   "cell_type": "code",
   "execution_count": 6,
   "id": "13c65684-afd0-4c67-95f9-d1493975fcd2",
   "metadata": {},
   "outputs": [],
   "source": [
    "# Impute NaNs with an empty string\n",
    "df['selftext'].fillna('',inplace = True)"
   ]
  },
  {
   "cell_type": "code",
   "execution_count": 7,
   "id": "eba031dd-ce65-4f67-a039-f5219cf6d231",
   "metadata": {},
   "outputs": [],
   "source": [
    "# Drop the 'created_utc' column\n",
    "df.drop(columns = 'created_utc', inplace = True)"
   ]
  },
  {
   "cell_type": "markdown",
   "id": "98b82eae-f259-440c-8e90-820eb1da602d",
   "metadata": {},
   "source": [
    "### EDA"
   ]
  },
  {
   "cell_type": "code",
   "execution_count": 8,
   "id": "b0aa6d7d-d8de-4ffd-904f-ea4383312209",
   "metadata": {},
   "outputs": [],
   "source": [
    "# Add a new column for title length\n",
    "df['title_length'] = df['title'].str.len()"
   ]
  },
  {
   "cell_type": "code",
   "execution_count": 9,
   "id": "aebc6b46-f07c-4929-933a-261241a470d4",
   "metadata": {
    "tags": []
   },
   "outputs": [],
   "source": [
    "# Add a new column for title word count\n",
    "df['title_word_count'] = [len(title.split(' ')) for title in df['title']]"
   ]
  },
  {
   "cell_type": "code",
   "execution_count": 10,
   "id": "5502601d-a10f-438b-a6d8-2369e1321196",
   "metadata": {},
   "outputs": [
    {
     "data": {
      "text/html": [
       "<div>\n",
       "<style scoped>\n",
       "    .dataframe tbody tr th:only-of-type {\n",
       "        vertical-align: middle;\n",
       "    }\n",
       "\n",
       "    .dataframe tbody tr th {\n",
       "        vertical-align: top;\n",
       "    }\n",
       "\n",
       "    .dataframe thead th {\n",
       "        text-align: right;\n",
       "    }\n",
       "</style>\n",
       "<table border=\"1\" class=\"dataframe\">\n",
       "  <thead>\n",
       "    <tr style=\"text-align: right;\">\n",
       "      <th></th>\n",
       "      <th>Unnamed: 0</th>\n",
       "      <th>title</th>\n",
       "      <th>selftext</th>\n",
       "      <th>subreddit</th>\n",
       "      <th>title_length</th>\n",
       "      <th>title_word_count</th>\n",
       "    </tr>\n",
       "  </thead>\n",
       "  <tbody>\n",
       "    <tr>\n",
       "      <th>0</th>\n",
       "      <td>0</td>\n",
       "      <td>I was suggested to post this puzzle here ,hope...</td>\n",
       "      <td></td>\n",
       "      <td>0</td>\n",
       "      <td>65</td>\n",
       "      <td>14</td>\n",
       "    </tr>\n",
       "    <tr>\n",
       "      <th>1</th>\n",
       "      <td>1</td>\n",
       "      <td>Programs for analyzing and annotating my games</td>\n",
       "      <td>Hi all, \\n\\n&amp;amp;#x200B;\\n\\nI am starting to t...</td>\n",
       "      <td>0</td>\n",
       "      <td>46</td>\n",
       "      <td>7</td>\n",
       "    </tr>\n",
       "    <tr>\n",
       "      <th>2</th>\n",
       "      <td>2</td>\n",
       "      <td>Who is GM Watneg on lichess?</td>\n",
       "      <td></td>\n",
       "      <td>0</td>\n",
       "      <td>28</td>\n",
       "      <td>6</td>\n",
       "    </tr>\n",
       "    <tr>\n",
       "      <th>3</th>\n",
       "      <td>3</td>\n",
       "      <td>Glitch in Lichess Analysis</td>\n",
       "      <td>&amp;amp;#x200B;\\n\\n[I was playing a game continua...</td>\n",
       "      <td>0</td>\n",
       "      <td>26</td>\n",
       "      <td>4</td>\n",
       "    </tr>\n",
       "    <tr>\n",
       "      <th>4</th>\n",
       "      <td>4</td>\n",
       "      <td>Does anyone know what the heck a zero day that...</td>\n",
       "      <td>Someone sent me something weird about correlat...</td>\n",
       "      <td>0</td>\n",
       "      <td>162</td>\n",
       "      <td>34</td>\n",
       "    </tr>\n",
       "  </tbody>\n",
       "</table>\n",
       "</div>"
      ],
      "text/plain": [
       "   Unnamed: 0                                              title  \\\n",
       "0           0  I was suggested to post this puzzle here ,hope...   \n",
       "1           1     Programs for analyzing and annotating my games   \n",
       "2           2                       Who is GM Watneg on lichess?   \n",
       "3           3                         Glitch in Lichess Analysis   \n",
       "4           4  Does anyone know what the heck a zero day that...   \n",
       "\n",
       "                                            selftext  subreddit  title_length  \\\n",
       "0                                                             0            65   \n",
       "1  Hi all, \\n\\n&amp;#x200B;\\n\\nI am starting to t...          0            46   \n",
       "2                                                             0            28   \n",
       "3  &amp;#x200B;\\n\\n[I was playing a game continua...          0            26   \n",
       "4  Someone sent me something weird about correlat...          0           162   \n",
       "\n",
       "   title_word_count  \n",
       "0                14  \n",
       "1                 7  \n",
       "2                 6  \n",
       "3                 4  \n",
       "4                34  "
      ]
     },
     "execution_count": 10,
     "metadata": {},
     "output_type": "execute_result"
    }
   ],
   "source": [
    "df.head()"
   ]
  },
  {
   "cell_type": "code",
   "execution_count": 11,
   "id": "7dc76793-7f94-4bfe-bb7b-df63949d2aeb",
   "metadata": {},
   "outputs": [
    {
     "data": {
      "text/html": [
       "<div>\n",
       "<style scoped>\n",
       "    .dataframe tbody tr th:only-of-type {\n",
       "        vertical-align: middle;\n",
       "    }\n",
       "\n",
       "    .dataframe tbody tr th {\n",
       "        vertical-align: top;\n",
       "    }\n",
       "\n",
       "    .dataframe thead th {\n",
       "        text-align: right;\n",
       "    }\n",
       "</style>\n",
       "<table border=\"1\" class=\"dataframe\">\n",
       "  <thead>\n",
       "    <tr style=\"text-align: right;\">\n",
       "      <th></th>\n",
       "      <th>title</th>\n",
       "    </tr>\n",
       "  </thead>\n",
       "  <tbody>\n",
       "    <tr>\n",
       "      <th>2939</th>\n",
       "      <td>Krause on MJ: He knew that he could do things ...</td>\n",
       "    </tr>\n",
       "    <tr>\n",
       "      <th>2002</th>\n",
       "      <td>[ESPN Stats &amp;amp; Info] A new Big 3 brewing in...</td>\n",
       "    </tr>\n",
       "    <tr>\n",
       "      <th>279</th>\n",
       "      <td>Why is this move that good? I've been analyzin...</td>\n",
       "    </tr>\n",
       "    <tr>\n",
       "      <th>3643</th>\n",
       "      <td>[Vardon] Giannis: “All-Star Games, they are no...</td>\n",
       "    </tr>\n",
       "    <tr>\n",
       "      <th>3024</th>\n",
       "      <td>Danny Green on if Simmons will play March 10th...</td>\n",
       "    </tr>\n",
       "    <tr>\n",
       "      <th>...</th>\n",
       "      <td>...</td>\n",
       "    </tr>\n",
       "    <tr>\n",
       "      <th>1220</th>\n",
       "      <td>Help</td>\n",
       "    </tr>\n",
       "    <tr>\n",
       "      <th>3145</th>\n",
       "      <td>Hdjsusbeebbggff</td>\n",
       "    </tr>\n",
       "    <tr>\n",
       "      <th>1844</th>\n",
       "      <td>1660</td>\n",
       "    </tr>\n",
       "    <tr>\n",
       "      <th>216</th>\n",
       "      <td>Hi!</td>\n",
       "    </tr>\n",
       "    <tr>\n",
       "      <th>1049</th>\n",
       "      <td>Help!</td>\n",
       "    </tr>\n",
       "  </tbody>\n",
       "</table>\n",
       "<p>3997 rows × 1 columns</p>\n",
       "</div>"
      ],
      "text/plain": [
       "                                                  title\n",
       "2939  Krause on MJ: He knew that he could do things ...\n",
       "2002  [ESPN Stats &amp; Info] A new Big 3 brewing in...\n",
       "279   Why is this move that good? I've been analyzin...\n",
       "3643  [Vardon] Giannis: “All-Star Games, they are no...\n",
       "3024  Danny Green on if Simmons will play March 10th...\n",
       "...                                                 ...\n",
       "1220                                               Help\n",
       "3145                                    Hdjsusbeebbggff\n",
       "1844                                               1660\n",
       "216                                                 Hi!\n",
       "1049                                              Help!\n",
       "\n",
       "[3997 rows x 1 columns]"
      ]
     },
     "execution_count": 11,
     "metadata": {},
     "output_type": "execute_result"
    }
   ],
   "source": [
    "df.sort_values('title_word_count', ascending = False)[['title']]"
   ]
  },
  {
   "cell_type": "code",
   "execution_count": 12,
   "id": "2cca4973-ae70-443d-9737-6b0e3c44d609",
   "metadata": {},
   "outputs": [
    {
     "data": {
      "text/plain": [
       "Text(0, 0.5, '# of documents')"
      ]
     },
     "execution_count": 12,
     "metadata": {},
     "output_type": "execute_result"
    },
    {
     "data": {
      "image/png": "[encoded data removed]",
      "text/plain": [
       "<Figure size 432x288 with 1 Axes>"
      ]
     },
     "metadata": {
      "needs_background": "light"
     },
     "output_type": "display_data"
    }
   ],
   "source": [
    "df['title_word_count'].hist()\n",
    "plt.xlabel('Number of words')\n",
    "plt.ylabel('# of documents')"
   ]
  },
  {
   "cell_type": "code",
   "execution_count": 13,
   "id": "6440e5da-ace3-4324-acbf-b3e9a3521759",
   "metadata": {},
   "outputs": [
    {
     "data": {
      "text/plain": [
       "Text(0, 0.5, '# of documents')"
      ]
     },
     "execution_count": 13,
     "metadata": {},
     "output_type": "execute_result"
    },
    {
     "data": {
      "image/png": "[encoded data removed]",
      "text/plain": [
       "<Figure size 432x288 with 1 Axes>"
      ]
     },
     "metadata": {
      "needs_background": "light"
     },
     "output_type": "display_data"
    }
   ],
   "source": [
    "df['title_length'].hist()\n",
    "plt.xlabel('title length (in characters)')\n",
    "plt.ylabel('# of documents')"
   ]
  },
  {
   "cell_type": "code",
   "execution_count": 14,
   "id": "5d41d307-c191-4b45-a7de-b83016d00d3b",
   "metadata": {},
   "outputs": [
    {
     "name": "stderr",
     "output_type": "stream",
     "text": [
      "C:\\Users\\aorfa\\AppData\\Local\\Temp/ipykernel_3708/918172363.py:1: FutureWarning: Indexing with multiple keys (implicitly converted to a tuple of keys) will be deprecated, use a list instead.\n",
      "  df.groupby('subreddit')['title_length','title_word_count'].mean()\n"
     ]
    },
    {
     "data": {
      "text/html": [
       "<div>\n",
       "<style scoped>\n",
       "    .dataframe tbody tr th:only-of-type {\n",
       "        vertical-align: middle;\n",
       "    }\n",
       "\n",
       "    .dataframe tbody tr th {\n",
       "        vertical-align: top;\n",
       "    }\n",
       "\n",
       "    .dataframe thead th {\n",
       "        text-align: right;\n",
       "    }\n",
       "</style>\n",
       "<table border=\"1\" class=\"dataframe\">\n",
       "  <thead>\n",
       "    <tr style=\"text-align: right;\">\n",
       "      <th></th>\n",
       "      <th>title_length</th>\n",
       "      <th>title_word_count</th>\n",
       "    </tr>\n",
       "    <tr>\n",
       "      <th>subreddit</th>\n",
       "      <th></th>\n",
       "      <th></th>\n",
       "    </tr>\n",
       "  </thead>\n",
       "  <tbody>\n",
       "    <tr>\n",
       "      <th>0</th>\n",
       "      <td>63.265899</td>\n",
       "      <td>11.472208</td>\n",
       "    </tr>\n",
       "    <tr>\n",
       "      <th>1</th>\n",
       "      <td>85.109500</td>\n",
       "      <td>15.130000</td>\n",
       "    </tr>\n",
       "  </tbody>\n",
       "</table>\n",
       "</div>"
      ],
      "text/plain": [
       "           title_length  title_word_count\n",
       "subreddit                                \n",
       "0             63.265899         11.472208\n",
       "1             85.109500         15.130000"
      ]
     },
     "execution_count": 14,
     "metadata": {},
     "output_type": "execute_result"
    }
   ],
   "source": [
    "df.groupby('subreddit')['title_length','title_word_count'].mean()"
   ]
  },
  {
   "cell_type": "markdown",
   "id": "bf026b72-2f1f-405d-9cb1-d399f01fc33e",
   "metadata": {},
   "source": [
    "### Vectorize the text"
   ]
  },
  {
   "cell_type": "code",
   "execution_count": 15,
   "id": "9ae34369-5ae3-4c82-a1af-797870023c47",
   "metadata": {},
   "outputs": [],
   "source": [
    "from sklearn.model_selection import train_test_split\n",
    "from sklearn.feature_extraction.text import CountVectorizer, TfidfVectorizer"
   ]
  },
  {
   "cell_type": "code",
   "execution_count": 16,
   "id": "064fa978-cfab-40a6-b764-27bc751a8ef8",
   "metadata": {},
   "outputs": [],
   "source": [
    "cvec = CountVectorizer(stop_words = 'english')\n",
    "\n",
    "cvec.fit(df['title'])\n",
    "\n",
    "csr = cvec.transform(df['title'])\n",
    "\n",
    "title_cvec = pd.DataFrame(csr.todense(), columns = cvec.get_feature_names())"
   ]
  },
  {
   "cell_type": "code",
   "execution_count": 17,
   "id": "390b1582-7d0a-4637-a422-caea699cf867",
   "metadata": {},
   "outputs": [
    {
     "data": {
      "text/plain": [
       "(3997, 6188)"
      ]
     },
     "execution_count": 17,
     "metadata": {},
     "output_type": "execute_result"
    }
   ],
   "source": [
    "title_cvec.shape"
   ]
  },
  {
   "cell_type": "code",
   "execution_count": 18,
   "id": "184310e2-4c57-4f3c-bfff-39e41ecabfb4",
   "metadata": {},
   "outputs": [
    {
     "data": {
      "text/plain": [
       "chess        547\n",
       "game         457\n",
       "nba          346\n",
       "play         218\n",
       "white        208\n",
       "time         181\n",
       "black        179\n",
       "lebron       174\n",
       "team         166\n",
       "star         158\n",
       "players      151\n",
       "win          149\n",
       "just         138\n",
       "highlight    138\n",
       "best         137\n",
       "games        136\n",
       "player       126\n",
       "com          123\n",
       "like         110\n",
       "mate         107\n",
       "dtype: int64"
      ]
     },
     "execution_count": 18,
     "metadata": {},
     "output_type": "execute_result"
    }
   ],
   "source": [
    "# top 20 words in either subreddit titles\n",
    "\n",
    "title_cvec.sum(axis = 0).sort_values(ascending = False)[:20]"
   ]
  },
  {
   "cell_type": "code",
   "execution_count": 19,
   "id": "6fd2c160-2e28-4c15-896b-301310c8ae1c",
   "metadata": {},
   "outputs": [],
   "source": [
    "# create new dataFrame with only the titles from the chess subreddit.  \n",
    "df_chess = df[(df['subreddit'] == 0)]"
   ]
  },
  {
   "cell_type": "code",
   "execution_count": 20,
   "id": "c04b2f69-cc05-4ad4-b41e-6226453d5c82",
   "metadata": {},
   "outputs": [
    {
     "data": {
      "text/plain": [
       "(3997, 6)"
      ]
     },
     "execution_count": 20,
     "metadata": {},
     "output_type": "execute_result"
    }
   ],
   "source": [
    "df.shape"
   ]
  },
  {
   "cell_type": "code",
   "execution_count": 21,
   "id": "bafcc178-e90c-4697-a0fb-a3965547faee",
   "metadata": {},
   "outputs": [
    {
     "data": {
      "text/plain": [
       "(1997, 6)"
      ]
     },
     "execution_count": 21,
     "metadata": {},
     "output_type": "execute_result"
    }
   ],
   "source": [
    "df_chess.shape"
   ]
  },
  {
   "cell_type": "code",
   "execution_count": 22,
   "id": "da6eb3d8-9f5c-45d1-b4df-26fae763f486",
   "metadata": {},
   "outputs": [
    {
     "data": {
      "text/plain": [
       "0    1997\n",
       "Name: subreddit, dtype: int64"
      ]
     },
     "execution_count": 22,
     "metadata": {},
     "output_type": "execute_result"
    }
   ],
   "source": [
    "df_chess['subreddit'].value_counts()"
   ]
  },
  {
   "cell_type": "code",
   "execution_count": 23,
   "id": "6614d4b8-6220-4050-8d0c-71e891519808",
   "metadata": {},
   "outputs": [],
   "source": [
    "cvec = CountVectorizer(stop_words = 'english')\n",
    "cvec.fit(df_chess['title'])\n",
    "csr = cvec.transform(df_chess['title'])\n",
    "chess_cvec = pd.DataFrame(csr.todense(), columns = cvec.get_feature_names())"
   ]
  },
  {
   "cell_type": "code",
   "execution_count": 24,
   "id": "0c783535-2a6f-485b-ae87-70ea534652ea",
   "metadata": {},
   "outputs": [
    {
     "data": {
      "text/plain": [
       "chess       547\n",
       "game        230\n",
       "white       201\n",
       "black       177\n",
       "play        168\n",
       "com         117\n",
       "mate        107\n",
       "win          98\n",
       "just         76\n",
       "lichess      70\n",
       "games        69\n",
       "best         68\n",
       "does         60\n",
       "playing      58\n",
       "like         58\n",
       "position     56\n",
       "moves        53\n",
       "time         53\n",
       "players      52\n",
       "draw         52\n",
       "dtype: int64"
      ]
     },
     "execution_count": 24,
     "metadata": {},
     "output_type": "execute_result"
    }
   ],
   "source": [
    "# Top 20 words in chess subreddit titles\n",
    "\n",
    "chess_cvec.sum(axis = 0).sort_values(ascending = False)[:20]"
   ]
  },
  {
   "cell_type": "code",
   "execution_count": 25,
   "id": "2f5d3848-782b-4230-bc42-7342437a9253",
   "metadata": {},
   "outputs": [],
   "source": [
    "df_nba = df[(df['subreddit'] == 1)]"
   ]
  },
  {
   "cell_type": "code",
   "execution_count": 26,
   "id": "9863a30d-82f1-43f4-8a9a-8bb7ac6fc16c",
   "metadata": {},
   "outputs": [],
   "source": [
    "cvec = CountVectorizer(stop_words = 'english')\n",
    "cvec.fit(df_nba['title'])\n",
    "csr = cvec.transform(df_nba['title'])\n",
    "nba_cvec = pd.DataFrame(csr.todense(), columns = cvec.get_feature_names())"
   ]
  },
  {
   "cell_type": "code",
   "execution_count": 27,
   "id": "5a21504b-1cbd-4b7d-92d2-217f6b241b1c",
   "metadata": {},
   "outputs": [
    {
     "data": {
      "text/plain": [
       "nba          346\n",
       "game         227\n",
       "lebron       174\n",
       "team         161\n",
       "star         158\n",
       "highlight    138\n",
       "time         128\n",
       "season       100\n",
       "harden       100\n",
       "players       99\n",
       "james         96\n",
       "curry         92\n",
       "player        87\n",
       "lakers        85\n",
       "steph         73\n",
       "best          69\n",
       "games         67\n",
       "mvp           65\n",
       "2022          65\n",
       "thread        64\n",
       "dtype: int64"
      ]
     },
     "execution_count": 27,
     "metadata": {},
     "output_type": "execute_result"
    }
   ],
   "source": [
    "# Top 20 words in nba subreddit titles\n",
    "\n",
    "nba_cvec.sum(axis = 0).sort_values(ascending = False)[:20]"
   ]
  },
  {
   "cell_type": "code",
   "execution_count": null,
   "id": "90317def-559d-4201-89a5-6c85dbbd4a0a",
   "metadata": {},
   "outputs": [],
   "source": [
    "df['title']"
   ]
  },
  {
   "cell_type": "code",
   "execution_count": 43,
   "id": "1190c505-0254-4e72-9319-bebf1225a777",
   "metadata": {},
   "outputs": [],
   "source": [
    "# try vectorizing on a token pattern that detects any two consecutive capitalized words\n",
    "\n",
    "cvec = CountVectorizer(stop_words = 'english', lowercase = False, token_pattern = '([A-Z][a-z]+(?=\\s[A-Z])(?:\\s[A-Z][a-z]+)+)')\n",
    "cvec.fit(df['title'])\n",
    "csr = cvec.transform(df['title'])\n",
    "twocaps_cvec = pd.DataFrame(csr.todense(), columns = cvec.get_feature_names())"
   ]
  },
  {
   "cell_type": "code",
   "execution_count": 44,
   "id": "64eaa262-2713-4777-a7fe-fb54fa9e84b1",
   "metadata": {},
   "outputs": [
    {
     "data": {
      "text/html": [
       "<div>\n",
       "<style scoped>\n",
       "    .dataframe tbody tr th:only-of-type {\n",
       "        vertical-align: middle;\n",
       "    }\n",
       "\n",
       "    .dataframe tbody tr th {\n",
       "        vertical-align: top;\n",
       "    }\n",
       "\n",
       "    .dataframe thead th {\n",
       "        text-align: right;\n",
       "    }\n",
       "</style>\n",
       "<table border=\"1\" class=\"dataframe\">\n",
       "  <thead>\n",
       "    <tr style=\"text-align: right;\">\n",
       "      <th></th>\n",
       "      <th>Aaron Fox</th>\n",
       "      <th>Aaron Fox Scams</th>\n",
       "      <th>Aaron Gordon</th>\n",
       "      <th>Aaron Holiday</th>\n",
       "      <th>Abram Khasin</th>\n",
       "      <th>Adam Aaronson</th>\n",
       "      <th>Adds Durant</th>\n",
       "      <th>Adult Improver</th>\n",
       "      <th>Affiliate Club</th>\n",
       "      <th>After Esipenko</th>\n",
       "      <th>...</th>\n",
       "      <th>Your Thoughts</th>\n",
       "      <th>Your Workouts</th>\n",
       "      <th>Youtube Channels</th>\n",
       "      <th>Yrs Old Non</th>\n",
       "      <th>Yugoslav Grandmaster</th>\n",
       "      <th>Yuri Averbakh</th>\n",
       "      <th>Yury Averbakh</th>\n",
       "      <th>Zach La</th>\n",
       "      <th>Zach Lowe</th>\n",
       "      <th>Zion Williamson</th>\n",
       "    </tr>\n",
       "  </thead>\n",
       "  <tbody>\n",
       "    <tr>\n",
       "      <th>0</th>\n",
       "      <td>0</td>\n",
       "      <td>0</td>\n",
       "      <td>0</td>\n",
       "      <td>0</td>\n",
       "      <td>0</td>\n",
       "      <td>0</td>\n",
       "      <td>0</td>\n",
       "      <td>0</td>\n",
       "      <td>0</td>\n",
       "      <td>0</td>\n",
       "      <td>...</td>\n",
       "      <td>0</td>\n",
       "      <td>0</td>\n",
       "      <td>0</td>\n",
       "      <td>0</td>\n",
       "      <td>0</td>\n",
       "      <td>0</td>\n",
       "      <td>0</td>\n",
       "      <td>0</td>\n",
       "      <td>0</td>\n",
       "      <td>0</td>\n",
       "    </tr>\n",
       "    <tr>\n",
       "      <th>1</th>\n",
       "      <td>0</td>\n",
       "      <td>0</td>\n",
       "      <td>0</td>\n",
       "      <td>0</td>\n",
       "      <td>0</td>\n",
       "      <td>0</td>\n",
       "      <td>0</td>\n",
       "      <td>0</td>\n",
       "      <td>0</td>\n",
       "      <td>0</td>\n",
       "      <td>...</td>\n",
       "      <td>0</td>\n",
       "      <td>0</td>\n",
       "      <td>0</td>\n",
       "      <td>0</td>\n",
       "      <td>0</td>\n",
       "      <td>0</td>\n",
       "      <td>0</td>\n",
       "      <td>0</td>\n",
       "      <td>0</td>\n",
       "      <td>0</td>\n",
       "    </tr>\n",
       "    <tr>\n",
       "      <th>2</th>\n",
       "      <td>0</td>\n",
       "      <td>0</td>\n",
       "      <td>0</td>\n",
       "      <td>0</td>\n",
       "      <td>0</td>\n",
       "      <td>0</td>\n",
       "      <td>0</td>\n",
       "      <td>0</td>\n",
       "      <td>0</td>\n",
       "      <td>0</td>\n",
       "      <td>...</td>\n",
       "      <td>0</td>\n",
       "      <td>0</td>\n",
       "      <td>0</td>\n",
       "      <td>0</td>\n",
       "      <td>0</td>\n",
       "      <td>0</td>\n",
       "      <td>0</td>\n",
       "      <td>0</td>\n",
       "      <td>0</td>\n",
       "      <td>0</td>\n",
       "    </tr>\n",
       "    <tr>\n",
       "      <th>3</th>\n",
       "      <td>0</td>\n",
       "      <td>0</td>\n",
       "      <td>0</td>\n",
       "      <td>0</td>\n",
       "      <td>0</td>\n",
       "      <td>0</td>\n",
       "      <td>0</td>\n",
       "      <td>0</td>\n",
       "      <td>0</td>\n",
       "      <td>0</td>\n",
       "      <td>...</td>\n",
       "      <td>0</td>\n",
       "      <td>0</td>\n",
       "      <td>0</td>\n",
       "      <td>0</td>\n",
       "      <td>0</td>\n",
       "      <td>0</td>\n",
       "      <td>0</td>\n",
       "      <td>0</td>\n",
       "      <td>0</td>\n",
       "      <td>0</td>\n",
       "    </tr>\n",
       "    <tr>\n",
       "      <th>4</th>\n",
       "      <td>0</td>\n",
       "      <td>0</td>\n",
       "      <td>0</td>\n",
       "      <td>0</td>\n",
       "      <td>0</td>\n",
       "      <td>0</td>\n",
       "      <td>0</td>\n",
       "      <td>0</td>\n",
       "      <td>0</td>\n",
       "      <td>0</td>\n",
       "      <td>...</td>\n",
       "      <td>0</td>\n",
       "      <td>0</td>\n",
       "      <td>0</td>\n",
       "      <td>0</td>\n",
       "      <td>0</td>\n",
       "      <td>0</td>\n",
       "      <td>0</td>\n",
       "      <td>0</td>\n",
       "      <td>0</td>\n",
       "      <td>0</td>\n",
       "    </tr>\n",
       "  </tbody>\n",
       "</table>\n",
       "<p>5 rows × 1427 columns</p>\n",
       "</div>"
      ],
      "text/plain": [
       "   Aaron Fox  Aaron Fox Scams  Aaron Gordon  Aaron Holiday  Abram Khasin  \\\n",
       "0          0                0             0              0             0   \n",
       "1          0                0             0              0             0   \n",
       "2          0                0             0              0             0   \n",
       "3          0                0             0              0             0   \n",
       "4          0                0             0              0             0   \n",
       "\n",
       "   Adam Aaronson  Adds Durant  Adult Improver  Affiliate Club  After Esipenko  \\\n",
       "0              0            0               0               0               0   \n",
       "1              0            0               0               0               0   \n",
       "2              0            0               0               0               0   \n",
       "3              0            0               0               0               0   \n",
       "4              0            0               0               0               0   \n",
       "\n",
       "   ...  Your Thoughts  Your Workouts  Youtube Channels  Yrs Old Non  \\\n",
       "0  ...              0              0                 0            0   \n",
       "1  ...              0              0                 0            0   \n",
       "2  ...              0              0                 0            0   \n",
       "3  ...              0              0                 0            0   \n",
       "4  ...              0              0                 0            0   \n",
       "\n",
       "   Yugoslav Grandmaster  Yuri Averbakh  Yury Averbakh  Zach La  Zach Lowe  \\\n",
       "0                     0              0              0        0          0   \n",
       "1                     0              0              0        0          0   \n",
       "2                     0              0              0        0          0   \n",
       "3                     0              0              0        0          0   \n",
       "4                     0              0              0        0          0   \n",
       "\n",
       "   Zion Williamson  \n",
       "0                0  \n",
       "1                0  \n",
       "2                0  \n",
       "3                0  \n",
       "4                0  \n",
       "\n",
       "[5 rows x 1427 columns]"
      ]
     },
     "execution_count": 44,
     "metadata": {},
     "output_type": "execute_result"
    }
   ],
   "source": [
    "twocaps_cvec.head()"
   ]
  },
  {
   "cell_type": "code",
   "execution_count": null,
   "id": "7952f337-a146-4fd8-b258-b32349d16878",
   "metadata": {},
   "outputs": [],
   "source": []
  },
  {
   "cell_type": "code",
   "execution_count": null,
   "id": "7a0df10b-c6fa-425f-94ea-ec7a1c5ef4fb",
   "metadata": {},
   "outputs": [],
   "source": []
  },
  {
   "cell_type": "code",
   "execution_count": null,
   "id": "af848afc-e87d-4a73-90d3-069d6ec902c9",
   "metadata": {},
   "outputs": [],
   "source": []
  },
  {
   "cell_type": "code",
   "execution_count": null,
   "id": "c7216299-70fb-4bfc-bb6c-27de236f121a",
   "metadata": {},
   "outputs": [],
   "source": []
  },
  {
   "cell_type": "markdown",
   "id": "c9f85ef7-2844-42bd-a620-338d2660d940",
   "metadata": {},
   "source": [
    "## Sentiment Analysis"
   ]
  },
  {
   "cell_type": "code",
   "execution_count": 28,
   "id": "db8d2c11-5681-40a2-bdfc-478c9a2629f4",
   "metadata": {},
   "outputs": [],
   "source": [
    "# Add Sentiment score columns to the main df\n",
    "# Instantiate Sentiment Intensity Analyzer\n",
    "from nltk.sentiment.vader import SentimentIntensityAnalyzer\n",
    "sia = SentimentIntensityAnalyzer()"
   ]
  },
  {
   "cell_type": "code",
   "execution_count": 29,
   "id": "afa7af39-1f32-4627-b772-5789009a4679",
   "metadata": {},
   "outputs": [
    {
     "data": {
      "text/html": [
       "<div>\n",
       "<style scoped>\n",
       "    .dataframe tbody tr th:only-of-type {\n",
       "        vertical-align: middle;\n",
       "    }\n",
       "\n",
       "    .dataframe tbody tr th {\n",
       "        vertical-align: top;\n",
       "    }\n",
       "\n",
       "    .dataframe thead th {\n",
       "        text-align: right;\n",
       "    }\n",
       "</style>\n",
       "<table border=\"1\" class=\"dataframe\">\n",
       "  <thead>\n",
       "    <tr style=\"text-align: right;\">\n",
       "      <th></th>\n",
       "      <th>Unnamed: 0</th>\n",
       "      <th>title</th>\n",
       "      <th>selftext</th>\n",
       "      <th>subreddit</th>\n",
       "      <th>title_length</th>\n",
       "      <th>title_word_count</th>\n",
       "      <th>sentiment</th>\n",
       "    </tr>\n",
       "  </thead>\n",
       "  <tbody>\n",
       "    <tr>\n",
       "      <th>0</th>\n",
       "      <td>0</td>\n",
       "      <td>I was suggested to post this puzzle here ,hope...</td>\n",
       "      <td></td>\n",
       "      <td>0</td>\n",
       "      <td>65</td>\n",
       "      <td>14</td>\n",
       "      <td>{'neg': 0.0, 'neu': 0.543, 'pos': 0.457, 'comp...</td>\n",
       "    </tr>\n",
       "    <tr>\n",
       "      <th>1</th>\n",
       "      <td>1</td>\n",
       "      <td>Programs for analyzing and annotating my games</td>\n",
       "      <td>Hi all, \\n\\n&amp;amp;#x200B;\\n\\nI am starting to t...</td>\n",
       "      <td>0</td>\n",
       "      <td>46</td>\n",
       "      <td>7</td>\n",
       "      <td>{'neg': 0.0, 'neu': 1.0, 'pos': 0.0, 'compound...</td>\n",
       "    </tr>\n",
       "    <tr>\n",
       "      <th>2</th>\n",
       "      <td>2</td>\n",
       "      <td>Who is GM Watneg on lichess?</td>\n",
       "      <td></td>\n",
       "      <td>0</td>\n",
       "      <td>28</td>\n",
       "      <td>6</td>\n",
       "      <td>{'neg': 0.0, 'neu': 1.0, 'pos': 0.0, 'compound...</td>\n",
       "    </tr>\n",
       "    <tr>\n",
       "      <th>3</th>\n",
       "      <td>3</td>\n",
       "      <td>Glitch in Lichess Analysis</td>\n",
       "      <td>&amp;amp;#x200B;\\n\\n[I was playing a game continua...</td>\n",
       "      <td>0</td>\n",
       "      <td>26</td>\n",
       "      <td>4</td>\n",
       "      <td>{'neg': 0.0, 'neu': 1.0, 'pos': 0.0, 'compound...</td>\n",
       "    </tr>\n",
       "    <tr>\n",
       "      <th>4</th>\n",
       "      <td>4</td>\n",
       "      <td>Does anyone know what the heck a zero day that...</td>\n",
       "      <td>Someone sent me something weird about correlat...</td>\n",
       "      <td>0</td>\n",
       "      <td>162</td>\n",
       "      <td>34</td>\n",
       "      <td>{'neg': 0.121, 'neu': 0.879, 'pos': 0.0, 'comp...</td>\n",
       "    </tr>\n",
       "  </tbody>\n",
       "</table>\n",
       "</div>"
      ],
      "text/plain": [
       "   Unnamed: 0                                              title  \\\n",
       "0           0  I was suggested to post this puzzle here ,hope...   \n",
       "1           1     Programs for analyzing and annotating my games   \n",
       "2           2                       Who is GM Watneg on lichess?   \n",
       "3           3                         Glitch in Lichess Analysis   \n",
       "4           4  Does anyone know what the heck a zero day that...   \n",
       "\n",
       "                                            selftext  subreddit  title_length  \\\n",
       "0                                                             0            65   \n",
       "1  Hi all, \\n\\n&amp;#x200B;\\n\\nI am starting to t...          0            46   \n",
       "2                                                             0            28   \n",
       "3  &amp;#x200B;\\n\\n[I was playing a game continua...          0            26   \n",
       "4  Someone sent me something weird about correlat...          0           162   \n",
       "\n",
       "   title_word_count                                          sentiment  \n",
       "0                14  {'neg': 0.0, 'neu': 0.543, 'pos': 0.457, 'comp...  \n",
       "1                 7  {'neg': 0.0, 'neu': 1.0, 'pos': 0.0, 'compound...  \n",
       "2                 6  {'neg': 0.0, 'neu': 1.0, 'pos': 0.0, 'compound...  \n",
       "3                 4  {'neg': 0.0, 'neu': 1.0, 'pos': 0.0, 'compound...  \n",
       "4                34  {'neg': 0.121, 'neu': 0.879, 'pos': 0.0, 'comp...  "
      ]
     },
     "execution_count": 29,
     "metadata": {},
     "output_type": "execute_result"
    }
   ],
   "source": [
    "df['sentiment'] = df['title'].apply(sia.polarity_scores)\n",
    "df.head()"
   ]
  },
  {
   "cell_type": "code",
   "execution_count": 30,
   "id": "2f29a8e7-1e52-4976-ae8d-d15cd5f42d23",
   "metadata": {},
   "outputs": [
    {
     "name": "stderr",
     "output_type": "stream",
     "text": [
      "C:\\Users\\aorfa\\AppData\\Local\\Temp/ipykernel_1960/1652361034.py:5: FutureWarning: In a future version of pandas all arguments of DataFrame.drop except for the argument 'labels' will be keyword-only\n",
      "  df = df.drop('sentiment', 1)\n"
     ]
    }
   ],
   "source": [
    "df['sentiment_compound'] = df['sentiment'].map(lambda x: x['compound'])\n",
    "df['sentiment_negative'] = df['sentiment'].map(lambda x: x['neg'])\n",
    "df['sentiment_neutral'] = df['sentiment'].map(lambda x: x['neu'])\n",
    "df['sentiment_positive'] = df['sentiment'].map(lambda x: x['pos'])\n",
    "df = df.drop('sentiment', 1)"
   ]
  },
  {
   "cell_type": "code",
   "execution_count": 31,
   "id": "fdda76b1-bc09-472c-b425-fd6db97eb4dc",
   "metadata": {},
   "outputs": [
    {
     "data": {
      "text/html": [
       "<div>\n",
       "<style scoped>\n",
       "    .dataframe tbody tr th:only-of-type {\n",
       "        vertical-align: middle;\n",
       "    }\n",
       "\n",
       "    .dataframe tbody tr th {\n",
       "        vertical-align: top;\n",
       "    }\n",
       "\n",
       "    .dataframe thead th {\n",
       "        text-align: right;\n",
       "    }\n",
       "</style>\n",
       "<table border=\"1\" class=\"dataframe\">\n",
       "  <thead>\n",
       "    <tr style=\"text-align: right;\">\n",
       "      <th></th>\n",
       "      <th>Unnamed: 0</th>\n",
       "      <th>title</th>\n",
       "      <th>selftext</th>\n",
       "      <th>subreddit</th>\n",
       "      <th>title_length</th>\n",
       "      <th>title_word_count</th>\n",
       "      <th>sentiment_compound</th>\n",
       "      <th>sentiment_negative</th>\n",
       "      <th>sentiment_neutral</th>\n",
       "      <th>sentiment_positive</th>\n",
       "    </tr>\n",
       "  </thead>\n",
       "  <tbody>\n",
       "    <tr>\n",
       "      <th>0</th>\n",
       "      <td>0</td>\n",
       "      <td>I was suggested to post this puzzle here ,hope...</td>\n",
       "      <td></td>\n",
       "      <td>0</td>\n",
       "      <td>65</td>\n",
       "      <td>14</td>\n",
       "      <td>0.8126</td>\n",
       "      <td>0.000</td>\n",
       "      <td>0.543</td>\n",
       "      <td>0.457</td>\n",
       "    </tr>\n",
       "    <tr>\n",
       "      <th>1</th>\n",
       "      <td>1</td>\n",
       "      <td>Programs for analyzing and annotating my games</td>\n",
       "      <td>Hi all, \\n\\n&amp;amp;#x200B;\\n\\nI am starting to t...</td>\n",
       "      <td>0</td>\n",
       "      <td>46</td>\n",
       "      <td>7</td>\n",
       "      <td>0.0000</td>\n",
       "      <td>0.000</td>\n",
       "      <td>1.000</td>\n",
       "      <td>0.000</td>\n",
       "    </tr>\n",
       "    <tr>\n",
       "      <th>2</th>\n",
       "      <td>2</td>\n",
       "      <td>Who is GM Watneg on lichess?</td>\n",
       "      <td></td>\n",
       "      <td>0</td>\n",
       "      <td>28</td>\n",
       "      <td>6</td>\n",
       "      <td>0.0000</td>\n",
       "      <td>0.000</td>\n",
       "      <td>1.000</td>\n",
       "      <td>0.000</td>\n",
       "    </tr>\n",
       "    <tr>\n",
       "      <th>3</th>\n",
       "      <td>3</td>\n",
       "      <td>Glitch in Lichess Analysis</td>\n",
       "      <td>&amp;amp;#x200B;\\n\\n[I was playing a game continua...</td>\n",
       "      <td>0</td>\n",
       "      <td>26</td>\n",
       "      <td>4</td>\n",
       "      <td>0.0000</td>\n",
       "      <td>0.000</td>\n",
       "      <td>1.000</td>\n",
       "      <td>0.000</td>\n",
       "    </tr>\n",
       "    <tr>\n",
       "      <th>4</th>\n",
       "      <td>4</td>\n",
       "      <td>Does anyone know what the heck a zero day that...</td>\n",
       "      <td>Someone sent me something weird about correlat...</td>\n",
       "      <td>0</td>\n",
       "      <td>162</td>\n",
       "      <td>34</td>\n",
       "      <td>-0.5043</td>\n",
       "      <td>0.121</td>\n",
       "      <td>0.879</td>\n",
       "      <td>0.000</td>\n",
       "    </tr>\n",
       "  </tbody>\n",
       "</table>\n",
       "</div>"
      ],
      "text/plain": [
       "   Unnamed: 0                                              title  \\\n",
       "0           0  I was suggested to post this puzzle here ,hope...   \n",
       "1           1     Programs for analyzing and annotating my games   \n",
       "2           2                       Who is GM Watneg on lichess?   \n",
       "3           3                         Glitch in Lichess Analysis   \n",
       "4           4  Does anyone know what the heck a zero day that...   \n",
       "\n",
       "                                            selftext  subreddit  title_length  \\\n",
       "0                                                             0            65   \n",
       "1  Hi all, \\n\\n&amp;#x200B;\\n\\nI am starting to t...          0            46   \n",
       "2                                                             0            28   \n",
       "3  &amp;#x200B;\\n\\n[I was playing a game continua...          0            26   \n",
       "4  Someone sent me something weird about correlat...          0           162   \n",
       "\n",
       "   title_word_count  sentiment_compound  sentiment_negative  \\\n",
       "0                14              0.8126               0.000   \n",
       "1                 7              0.0000               0.000   \n",
       "2                 6              0.0000               0.000   \n",
       "3                 4              0.0000               0.000   \n",
       "4                34             -0.5043               0.121   \n",
       "\n",
       "   sentiment_neutral  sentiment_positive  \n",
       "0              0.543               0.457  \n",
       "1              1.000               0.000  \n",
       "2              1.000               0.000  \n",
       "3              1.000               0.000  \n",
       "4              0.879               0.000  "
      ]
     },
     "execution_count": 31,
     "metadata": {},
     "output_type": "execute_result"
    }
   ],
   "source": [
    "df.head()"
   ]
  },
  {
   "cell_type": "code",
   "execution_count": 32,
   "id": "b871c66d-8652-4679-ad9b-6fd82013e3b6",
   "metadata": {},
   "outputs": [],
   "source": [
    "df.to_csv('./Data/subreddit_data_post_eda.csv')"
   ]
  }
 ],
 "metadata": {
  "kernelspec": {
   "display_name": "Python 3 (ipykernel)",
   "language": "python",
   "name": "python3"
  },
  "language_info": {
   "codemirror_mode": {
    "name": "ipython",
    "version": 3
   },
   "file_extension": ".py",
   "mimetype": "text/x-python",
   "name": "python",
   "nbconvert_exporter": "python",
   "pygments_lexer": "ipython3",
   "version": "3.9.7"
  }
 },
 "nbformat": 4,
 "nbformat_minor": 5
}
