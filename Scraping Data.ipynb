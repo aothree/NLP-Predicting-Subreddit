{
 "cells": [
  {
   "cell_type": "code",
   "execution_count": 1,
   "id": "04aa56ff-f090-4028-8f51-46b4edf2d489",
   "metadata": {},
   "outputs": [],
   "source": [
    "import pandas as pd\n",
    "import numpy as np\n",
    "import requests\n",
    "import time"
   ]
  },
  {
   "cell_type": "code",
   "execution_count": 2,
   "id": "bae43ab7-c15c-4e78-8c4f-c01fefa6e398",
   "metadata": {},
   "outputs": [
    {
     "data": {
      "text/plain": [
       "1645891350"
      ]
     },
     "execution_count": 2,
     "metadata": {},
     "output_type": "execute_result"
    }
   ],
   "source": [
    "int(time.time())"
   ]
  },
  {
   "cell_type": "code",
   "execution_count": 3,
   "id": "86bca862-b655-493d-969f-fbdf2cf187c2",
   "metadata": {
    "tags": []
   },
   "outputs": [
    {
     "name": "stdout",
     "output_type": "stream",
     "text": [
      "Scraped 100 posts for the chess subreddit\n",
      "Scraped 200 posts for the chess subreddit\n",
      "Scraped 300 posts for the chess subreddit\n",
      "Scraped 400 posts for the chess subreddit\n",
      "Scraped 500 posts for the chess subreddit\n",
      "Scraped 600 posts for the chess subreddit\n",
      "Scraped 700 posts for the chess subreddit\n",
      "Scraped 800 posts for the chess subreddit\n",
      "Scraped 900 posts for the chess subreddit\n",
      "Scraped 1000 posts for the chess subreddit\n",
      "Scraped 1100 posts for the chess subreddit\n",
      "Scraped 1200 posts for the chess subreddit\n",
      "Scraped 1300 posts for the chess subreddit\n",
      "Scraped 1400 posts for the chess subreddit\n",
      "Scraped 1500 posts for the chess subreddit\n",
      "Scraped 1600 posts for the chess subreddit\n",
      "Scraped 1700 posts for the chess subreddit\n",
      "Scraped 1800 posts for the chess subreddit\n",
      "Scraped 1900 posts for the chess subreddit\n",
      "Scraped 2000 posts for the chess subreddit\n",
      "Scraped 100 posts for the nba subreddit\n",
      "Scraped 200 posts for the nba subreddit\n",
      "Scraped 300 posts for the nba subreddit\n",
      "Scraped 400 posts for the nba subreddit\n",
      "Scraped 500 posts for the nba subreddit\n",
      "Scraped 600 posts for the nba subreddit\n",
      "Scraped 700 posts for the nba subreddit\n",
      "Scraped 800 posts for the nba subreddit\n",
      "Scraped 900 posts for the nba subreddit\n",
      "Scraped 1000 posts for the nba subreddit\n",
      "Scraped 1100 posts for the nba subreddit\n",
      "Scraped 1200 posts for the nba subreddit\n",
      "Scraped 1300 posts for the nba subreddit\n",
      "Scraped 1400 posts for the nba subreddit\n",
      "Scraped 1500 posts for the nba subreddit\n",
      "Scraped 1600 posts for the nba subreddit\n",
      "Scraped 1700 posts for the nba subreddit\n",
      "Scraped 1800 posts for the nba subreddit\n",
      "Scraped 1900 posts for the nba subreddit\n",
      "Scraped 2000 posts for the nba subreddit\n"
     ]
    }
   ],
   "source": [
    "# code framework for P3\n",
    "subreddits = ['chess', 'nba']\n",
    "base_url = 'https://api.pushshift.io/reddit/'\n",
    "dfs = []\n",
    "\n",
    "for subreddit in subreddits:\n",
    "    # set before to be current time\n",
    "    before = int(time.time())\n",
    "    \n",
    "    for i in range(1,21):\n",
    "        print(f'Scraped {i * 100} posts for the {subreddit} subreddit')\n",
    "        # create params: before, subreddit, size\n",
    "        params = {'subreddit': subreddit,\n",
    "                  'size': 100,\n",
    "                  'before': before,\n",
    "                 }\n",
    "        # use the requests to get the response\n",
    "        res = requests.get(base_url + 'search/submission/?', params=params)\n",
    "        # turn the response into JSON\n",
    "        data = res.json()\n",
    "        # turn the JSON into a DataFrame\n",
    "        small_df = pd.DataFrame(data['data'])[['title', 'selftext','subreddit','created_utc']]\n",
    "        # add posts DataFrame to dfs\n",
    "        dfs.append(small_df)\n",
    "        # set before to be the timestamp of the last post\n",
    "        before = small_df['created_utc'].values[-1]\n",
    "        time.sleep(3)\n",
    "\n",
    "# concat all dfs\n",
    "df = pd.concat(dfs)"
   ]
  },
  {
   "cell_type": "code",
   "execution_count": 4,
   "id": "5dc1f101-4953-4c86-b4da-ba89608c54d7",
   "metadata": {},
   "outputs": [
    {
     "data": {
      "text/plain": [
       "0"
      ]
     },
     "execution_count": 4,
     "metadata": {},
     "output_type": "execute_result"
    }
   ],
   "source": [
    "df.duplicated().sum()"
   ]
  },
  {
   "cell_type": "code",
   "execution_count": 5,
   "id": "e539cd30-d9ac-4d2a-b7bb-c13b6ce44acd",
   "metadata": {},
   "outputs": [
    {
     "data": {
      "text/plain": [
       "(3997, 4)"
      ]
     },
     "execution_count": 5,
     "metadata": {},
     "output_type": "execute_result"
    }
   ],
   "source": [
    "df.shape"
   ]
  },
  {
   "cell_type": "code",
   "execution_count": 6,
   "id": "0b563b34-ff11-451b-be73-5954695fece2",
   "metadata": {},
   "outputs": [
    {
     "data": {
      "text/plain": [
       "nba      2000\n",
       "chess    1997\n",
       "Name: subreddit, dtype: int64"
      ]
     },
     "execution_count": 6,
     "metadata": {},
     "output_type": "execute_result"
    }
   ],
   "source": [
    "df['subreddit'].value_counts()"
   ]
  },
  {
   "cell_type": "code",
   "execution_count": 7,
   "id": "14fbe851-b0c2-4c6e-a250-de8625abb0ea",
   "metadata": {},
   "outputs": [
    {
     "data": {
      "text/html": [
       "<div>\n",
       "<style scoped>\n",
       "    .dataframe tbody tr th:only-of-type {\n",
       "        vertical-align: middle;\n",
       "    }\n",
       "\n",
       "    .dataframe tbody tr th {\n",
       "        vertical-align: top;\n",
       "    }\n",
       "\n",
       "    .dataframe thead th {\n",
       "        text-align: right;\n",
       "    }\n",
       "</style>\n",
       "<table border=\"1\" class=\"dataframe\">\n",
       "  <thead>\n",
       "    <tr style=\"text-align: right;\">\n",
       "      <th></th>\n",
       "      <th>title</th>\n",
       "      <th>selftext</th>\n",
       "      <th>subreddit</th>\n",
       "      <th>created_utc</th>\n",
       "    </tr>\n",
       "  </thead>\n",
       "  <tbody>\n",
       "    <tr>\n",
       "      <th>0</th>\n",
       "      <td>I was suggested to post this puzzle here ,hope...</td>\n",
       "      <td></td>\n",
       "      <td>chess</td>\n",
       "      <td>1645890879</td>\n",
       "    </tr>\n",
       "    <tr>\n",
       "      <th>1</th>\n",
       "      <td>Programs for analyzing and annotating my games</td>\n",
       "      <td>Hi all, \\n\\n&amp;amp;#x200B;\\n\\nI am starting to t...</td>\n",
       "      <td>chess</td>\n",
       "      <td>1645889769</td>\n",
       "    </tr>\n",
       "    <tr>\n",
       "      <th>2</th>\n",
       "      <td>Who is GM Watneg on lichess?</td>\n",
       "      <td></td>\n",
       "      <td>chess</td>\n",
       "      <td>1645887353</td>\n",
       "    </tr>\n",
       "    <tr>\n",
       "      <th>3</th>\n",
       "      <td>Glitch in Lichess Analysis</td>\n",
       "      <td>&amp;amp;#x200B;\\n\\n[I was playing a game continua...</td>\n",
       "      <td>chess</td>\n",
       "      <td>1645886429</td>\n",
       "    </tr>\n",
       "    <tr>\n",
       "      <th>4</th>\n",
       "      <td>Does anyone know what the heck a zero day that...</td>\n",
       "      <td>Someone sent me something weird about correlat...</td>\n",
       "      <td>chess</td>\n",
       "      <td>1645885215</td>\n",
       "    </tr>\n",
       "    <tr>\n",
       "      <th>5</th>\n",
       "      <td>Magnus and Nepo on Friday</td>\n",
       "      <td></td>\n",
       "      <td>chess</td>\n",
       "      <td>1645884925</td>\n",
       "    </tr>\n",
       "    <tr>\n",
       "      <th>6</th>\n",
       "      <td>kshi_tij7 vs. jovenSuave | Analysis - Chess.com</td>\n",
       "      <td></td>\n",
       "      <td>chess</td>\n",
       "      <td>1645884227</td>\n",
       "    </tr>\n",
       "    <tr>\n",
       "      <th>7</th>\n",
       "      <td>How to play in middlegame in open_closed_semi ...</td>\n",
       "      <td></td>\n",
       "      <td>chess</td>\n",
       "      <td>1645882373</td>\n",
       "    </tr>\n",
       "    <tr>\n",
       "      <th>8</th>\n",
       "      <td>The complete Caro by Sam Shankland</td>\n",
       "      <td>Has anyone tried this lesson on Caro Kann by S...</td>\n",
       "      <td>chess</td>\n",
       "      <td>1645879322</td>\n",
       "    </tr>\n",
       "    <tr>\n",
       "      <th>9</th>\n",
       "      <td>The unbearable virtue signaling everywhere and...</td>\n",
       "      <td>Of course from a new account ;-)\\n\\nHow many k...</td>\n",
       "      <td>chess</td>\n",
       "      <td>1645877751</td>\n",
       "    </tr>\n",
       "    <tr>\n",
       "      <th>10</th>\n",
       "      <td>German GM Georg Meier calls out Karjakin</td>\n",
       "      <td></td>\n",
       "      <td>chess</td>\n",
       "      <td>1645877286</td>\n",
       "    </tr>\n",
       "    <tr>\n",
       "      <th>11</th>\n",
       "      <td>Queen fo Chess documentary</td>\n",
       "      <td>Does anybody know any details about the releas...</td>\n",
       "      <td>chess</td>\n",
       "      <td>1645877215</td>\n",
       "    </tr>\n",
       "    <tr>\n",
       "      <th>12</th>\n",
       "      <td>Mainlines vs Variations Questions</td>\n",
       "      <td>So I'm studying some openings and looking at t...</td>\n",
       "      <td>chess</td>\n",
       "      <td>1645874748</td>\n",
       "    </tr>\n",
       "    <tr>\n",
       "      <th>13</th>\n",
       "      <td>Why isn't there same level of condemnation for...</td>\n",
       "      <td></td>\n",
       "      <td>chess</td>\n",
       "      <td>1645874356</td>\n",
       "    </tr>\n",
       "    <tr>\n",
       "      <th>14</th>\n",
       "      <td>Black plays to checkmate. ( I found this posit...</td>\n",
       "      <td></td>\n",
       "      <td>chess</td>\n",
       "      <td>1645873559</td>\n",
       "    </tr>\n",
       "  </tbody>\n",
       "</table>\n",
       "</div>"
      ],
      "text/plain": [
       "                                                title  \\\n",
       "0   I was suggested to post this puzzle here ,hope...   \n",
       "1      Programs for analyzing and annotating my games   \n",
       "2                        Who is GM Watneg on lichess?   \n",
       "3                          Glitch in Lichess Analysis   \n",
       "4   Does anyone know what the heck a zero day that...   \n",
       "5                           Magnus and Nepo on Friday   \n",
       "6     kshi_tij7 vs. jovenSuave | Analysis - Chess.com   \n",
       "7   How to play in middlegame in open_closed_semi ...   \n",
       "8                  The complete Caro by Sam Shankland   \n",
       "9   The unbearable virtue signaling everywhere and...   \n",
       "10           German GM Georg Meier calls out Karjakin   \n",
       "11                         Queen fo Chess documentary   \n",
       "12                  Mainlines vs Variations Questions   \n",
       "13  Why isn't there same level of condemnation for...   \n",
       "14  Black plays to checkmate. ( I found this posit...   \n",
       "\n",
       "                                             selftext subreddit  created_utc  \n",
       "0                                                         chess   1645890879  \n",
       "1   Hi all, \\n\\n&amp;#x200B;\\n\\nI am starting to t...     chess   1645889769  \n",
       "2                                                         chess   1645887353  \n",
       "3   &amp;#x200B;\\n\\n[I was playing a game continua...     chess   1645886429  \n",
       "4   Someone sent me something weird about correlat...     chess   1645885215  \n",
       "5                                                         chess   1645884925  \n",
       "6                                                         chess   1645884227  \n",
       "7                                                         chess   1645882373  \n",
       "8   Has anyone tried this lesson on Caro Kann by S...     chess   1645879322  \n",
       "9   Of course from a new account ;-)\\n\\nHow many k...     chess   1645877751  \n",
       "10                                                        chess   1645877286  \n",
       "11  Does anybody know any details about the releas...     chess   1645877215  \n",
       "12  So I'm studying some openings and looking at t...     chess   1645874748  \n",
       "13                                                        chess   1645874356  \n",
       "14                                                        chess   1645873559  "
      ]
     },
     "execution_count": 7,
     "metadata": {},
     "output_type": "execute_result"
    }
   ],
   "source": [
    "df.head(15)"
   ]
  },
  {
   "cell_type": "code",
   "execution_count": 8,
   "id": "d1026205-eeaf-4585-94fc-4a8e78612666",
   "metadata": {},
   "outputs": [],
   "source": [
    "df.to_csv('./Data/subreddit_data.csv')"
   ]
  }
 ],
 "metadata": {
  "kernelspec": {
   "display_name": "Python 3 (ipykernel)",
   "language": "python",
   "name": "python3"
  },
  "language_info": {
   "codemirror_mode": {
    "name": "ipython",
    "version": 3
   },
   "file_extension": ".py",
   "mimetype": "text/x-python",
   "name": "python",
   "nbconvert_exporter": "python",
   "pygments_lexer": "ipython3",
   "version": "3.9.7"
  }
 },
 "nbformat": 4,
 "nbformat_minor": 5
}
