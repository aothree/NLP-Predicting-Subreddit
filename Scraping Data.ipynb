{
 "cells": [
  {
   "cell_type": "code",
   "execution_count": 1,
   "id": "04aa56ff-f090-4028-8f51-46b4edf2d489",
   "metadata": {},
   "outputs": [],
   "source": [
    "import pandas as pd\n",
    "import numpy as np\n",
    "import requests\n",
    "import time"
   ]
  },
  {
   "cell_type": "code",
   "execution_count": 30,
   "id": "bae43ab7-c15c-4e78-8c4f-c01fefa6e398",
   "metadata": {},
   "outputs": [
    {
     "data": {
      "text/plain": [
       "1645566617"
      ]
     },
     "execution_count": 30,
     "metadata": {},
     "output_type": "execute_result"
    }
   ],
   "source": [
    "int(time.time())"
   ]
  },
  {
   "cell_type": "code",
   "execution_count": 21,
   "id": "86bca862-b655-493d-969f-fbdf2cf187c2",
   "metadata": {
    "tags": []
   },
   "outputs": [
    {
     "name": "stdout",
     "output_type": "stream",
     "text": [
      "Scraped 100 posts for the chess subreddit\n",
      "Scraped 200 posts for the chess subreddit\n",
      "Scraped 300 posts for the chess subreddit\n",
      "Scraped 400 posts for the chess subreddit\n",
      "Scraped 500 posts for the chess subreddit\n",
      "Scraped 600 posts for the chess subreddit\n",
      "Scraped 700 posts for the chess subreddit\n",
      "Scraped 800 posts for the chess subreddit\n",
      "Scraped 900 posts for the chess subreddit\n",
      "Scraped 1000 posts for the chess subreddit\n",
      "Scraped 1100 posts for the chess subreddit\n",
      "Scraped 1200 posts for the chess subreddit\n",
      "Scraped 1300 posts for the chess subreddit\n",
      "Scraped 1400 posts for the chess subreddit\n",
      "Scraped 1500 posts for the chess subreddit\n",
      "Scraped 1600 posts for the chess subreddit\n",
      "Scraped 1700 posts for the chess subreddit\n",
      "Scraped 1800 posts for the chess subreddit\n",
      "Scraped 1900 posts for the chess subreddit\n",
      "Scraped 2000 posts for the chess subreddit\n",
      "Scraped 100 posts for the nba subreddit\n",
      "Scraped 200 posts for the nba subreddit\n",
      "Scraped 300 posts for the nba subreddit\n",
      "Scraped 400 posts for the nba subreddit\n",
      "Scraped 500 posts for the nba subreddit\n",
      "Scraped 600 posts for the nba subreddit\n",
      "Scraped 700 posts for the nba subreddit\n",
      "Scraped 800 posts for the nba subreddit\n",
      "Scraped 900 posts for the nba subreddit\n",
      "Scraped 1000 posts for the nba subreddit\n",
      "Scraped 1100 posts for the nba subreddit\n",
      "Scraped 1200 posts for the nba subreddit\n",
      "Scraped 1300 posts for the nba subreddit\n",
      "Scraped 1400 posts for the nba subreddit\n",
      "Scraped 1500 posts for the nba subreddit\n",
      "Scraped 1600 posts for the nba subreddit\n",
      "Scraped 1700 posts for the nba subreddit\n",
      "Scraped 1800 posts for the nba subreddit\n",
      "Scraped 1900 posts for the nba subreddit\n",
      "Scraped 2000 posts for the nba subreddit\n"
     ]
    }
   ],
   "source": [
    "# code framework for P3\n",
    "subreddits = ['chess', 'nba']\n",
    "base_url = 'https://api.pushshift.io/reddit/'\n",
    "dfs = []\n",
    "\n",
    "for subreddit in subreddits:\n",
    "    # set before to be current time\n",
    "    before = int(time.time())\n",
    "    \n",
    "    for i in range(1,21):\n",
    "        print(f'Scraped {i * 100} posts for the {subreddit} subreddit')\n",
    "        # create params: before, subreddit, size\n",
    "        params = {'subreddit': subreddit,\n",
    "                  'size': 100,\n",
    "                  'before': before,\n",
    "                 }\n",
    "        # use the requests to get the response\n",
    "        res = requests.get(base_url + 'search/submission/?', params=params)\n",
    "        # turn the response into JSON\n",
    "        data = res.json()\n",
    "        # turn the JSON into a DataFrame\n",
    "        small_df = pd.DataFrame(data['data'])[['title', 'selftext','subreddit','created_utc']]\n",
    "        # add posts DataFrame to dfs\n",
    "        dfs.append(small_df)\n",
    "        # set before to be the timestamp of the last post\n",
    "        before = small_df['created_utc'].values[-1]\n",
    "        time.sleep(3)\n",
    "\n",
    "# concat all dfs\n",
    "df = pd.concat(dfs)"
   ]
  },
  {
   "cell_type": "code",
   "execution_count": 28,
   "id": "5dc1f101-4953-4c86-b4da-ba89608c54d7",
   "metadata": {},
   "outputs": [
    {
     "data": {
      "text/plain": [
       "0"
      ]
     },
     "execution_count": 28,
     "metadata": {},
     "output_type": "execute_result"
    }
   ],
   "source": [
    "df.duplicated().sum()"
   ]
  },
  {
   "cell_type": "code",
   "execution_count": 22,
   "id": "e539cd30-d9ac-4d2a-b7bb-c13b6ce44acd",
   "metadata": {},
   "outputs": [
    {
     "data": {
      "text/plain": [
       "(3997, 4)"
      ]
     },
     "execution_count": 22,
     "metadata": {},
     "output_type": "execute_result"
    }
   ],
   "source": [
    "df.shape"
   ]
  },
  {
   "cell_type": "code",
   "execution_count": 23,
   "id": "0b563b34-ff11-451b-be73-5954695fece2",
   "metadata": {},
   "outputs": [
    {
     "data": {
      "text/plain": [
       "nba      1999\n",
       "chess    1998\n",
       "Name: subreddit, dtype: int64"
      ]
     },
     "execution_count": 23,
     "metadata": {},
     "output_type": "execute_result"
    }
   ],
   "source": [
    "df['subreddit'].value_counts()"
   ]
  },
  {
   "cell_type": "code",
   "execution_count": 27,
   "id": "14fbe851-b0c2-4c6e-a250-de8625abb0ea",
   "metadata": {},
   "outputs": [
    {
     "data": {
      "text/html": [
       "<div>\n",
       "<style scoped>\n",
       "    .dataframe tbody tr th:only-of-type {\n",
       "        vertical-align: middle;\n",
       "    }\n",
       "\n",
       "    .dataframe tbody tr th {\n",
       "        vertical-align: top;\n",
       "    }\n",
       "\n",
       "    .dataframe thead th {\n",
       "        text-align: right;\n",
       "    }\n",
       "</style>\n",
       "<table border=\"1\" class=\"dataframe\">\n",
       "  <thead>\n",
       "    <tr style=\"text-align: right;\">\n",
       "      <th></th>\n",
       "      <th>title</th>\n",
       "      <th>selftext</th>\n",
       "      <th>subreddit</th>\n",
       "      <th>created_utc</th>\n",
       "    </tr>\n",
       "  </thead>\n",
       "  <tbody>\n",
       "    <tr>\n",
       "      <th>0</th>\n",
       "      <td>its unfortunate to see world champion magnus c...</td>\n",
       "      <td>[removed]</td>\n",
       "      <td>chess</td>\n",
       "      <td>1645561675</td>\n",
       "    </tr>\n",
       "    <tr>\n",
       "      <th>1</th>\n",
       "      <td>Players who don't resign (1700 and above)</td>\n",
       "      <td>What exactly is your mindset? If you win a gam...</td>\n",
       "      <td>chess</td>\n",
       "      <td>1645561281</td>\n",
       "    </tr>\n",
       "    <tr>\n",
       "      <th>2</th>\n",
       "      <td>Is this the worst blunder Magnus has ever made ?</td>\n",
       "      <td></td>\n",
       "      <td>chess</td>\n",
       "      <td>1645561238</td>\n",
       "    </tr>\n",
       "    <tr>\n",
       "      <th>3</th>\n",
       "      <td>Gauging the effectiveness of home-brew vision ...</td>\n",
       "      <td>I'm pretty new to chess, and recently I've bee...</td>\n",
       "      <td>chess</td>\n",
       "      <td>1645560655</td>\n",
       "    </tr>\n",
       "    <tr>\n",
       "      <th>4</th>\n",
       "      <td>Double check? Isn't it game over?</td>\n",
       "      <td>I'm very casual. I've played so many games, in...</td>\n",
       "      <td>chess</td>\n",
       "      <td>1645560031</td>\n",
       "    </tr>\n",
       "    <tr>\n",
       "      <th>5</th>\n",
       "      <td>Are Humans Still Useful for AI</td>\n",
       "      <td>I tried looking online, but it's hard to get a...</td>\n",
       "      <td>chess</td>\n",
       "      <td>1645559740</td>\n",
       "    </tr>\n",
       "    <tr>\n",
       "      <th>6</th>\n",
       "      <td>Tricky little puzzle I came up with. Black to ...</td>\n",
       "      <td></td>\n",
       "      <td>chess</td>\n",
       "      <td>1645559544</td>\n",
       "    </tr>\n",
       "    <tr>\n",
       "      <th>7</th>\n",
       "      <td>Has anyone had this cheat used on them?</td>\n",
       "      <td>[removed]</td>\n",
       "      <td>chess</td>\n",
       "      <td>1645558950</td>\n",
       "    </tr>\n",
       "    <tr>\n",
       "      <th>8</th>\n",
       "      <td>Guess the Evaluation in this position that I g...</td>\n",
       "      <td></td>\n",
       "      <td>chess</td>\n",
       "      <td>1645558732</td>\n",
       "    </tr>\n",
       "    <tr>\n",
       "      <th>9</th>\n",
       "      <td>Chess.com is down</td>\n",
       "      <td>Even Chess.com got shocked Magnus lost to some...</td>\n",
       "      <td>chess</td>\n",
       "      <td>1645558463</td>\n",
       "    </tr>\n",
       "    <tr>\n",
       "      <th>10</th>\n",
       "      <td>CHESS.COM IS DOWN MEGATHREAD</td>\n",
       "      <td>[removed]</td>\n",
       "      <td>chess</td>\n",
       "      <td>1645558406</td>\n",
       "    </tr>\n",
       "    <tr>\n",
       "      <th>11</th>\n",
       "      <td>Every time I lose a chess match, I get very an...</td>\n",
       "      <td>Every single time I lose at chess, I take it v...</td>\n",
       "      <td>chess</td>\n",
       "      <td>1645557940</td>\n",
       "    </tr>\n",
       "    <tr>\n",
       "      <th>12</th>\n",
       "      <td>Computer vs Computer+Human</td>\n",
       "      <td>I’m looking for papers/experiments related to ...</td>\n",
       "      <td>chess</td>\n",
       "      <td>1645557621</td>\n",
       "    </tr>\n",
       "    <tr>\n",
       "      <th>13</th>\n",
       "      <td>From Bulgari’s instagram</td>\n",
       "      <td></td>\n",
       "      <td>chess</td>\n",
       "      <td>1645557073</td>\n",
       "    </tr>\n",
       "    <tr>\n",
       "      <th>14</th>\n",
       "      <td>Eric Hansen is the highest rated chess player ...</td>\n",
       "      <td>If not, then surely at least the highest rated...</td>\n",
       "      <td>chess</td>\n",
       "      <td>1645556845</td>\n",
       "    </tr>\n",
       "  </tbody>\n",
       "</table>\n",
       "</div>"
      ],
      "text/plain": [
       "                                                title  \\\n",
       "0   its unfortunate to see world champion magnus c...   \n",
       "1           Players who don't resign (1700 and above)   \n",
       "2    Is this the worst blunder Magnus has ever made ?   \n",
       "3   Gauging the effectiveness of home-brew vision ...   \n",
       "4                   Double check? Isn't it game over?   \n",
       "5                      Are Humans Still Useful for AI   \n",
       "6   Tricky little puzzle I came up with. Black to ...   \n",
       "7             Has anyone had this cheat used on them?   \n",
       "8   Guess the Evaluation in this position that I g...   \n",
       "9                                   Chess.com is down   \n",
       "10                       CHESS.COM IS DOWN MEGATHREAD   \n",
       "11  Every time I lose a chess match, I get very an...   \n",
       "12                         Computer vs Computer+Human   \n",
       "13                           From Bulgari’s instagram   \n",
       "14  Eric Hansen is the highest rated chess player ...   \n",
       "\n",
       "                                             selftext subreddit  created_utc  \n",
       "0                                           [removed]     chess   1645561675  \n",
       "1   What exactly is your mindset? If you win a gam...     chess   1645561281  \n",
       "2                                                         chess   1645561238  \n",
       "3   I'm pretty new to chess, and recently I've bee...     chess   1645560655  \n",
       "4   I'm very casual. I've played so many games, in...     chess   1645560031  \n",
       "5   I tried looking online, but it's hard to get a...     chess   1645559740  \n",
       "6                                                         chess   1645559544  \n",
       "7                                           [removed]     chess   1645558950  \n",
       "8                                                         chess   1645558732  \n",
       "9   Even Chess.com got shocked Magnus lost to some...     chess   1645558463  \n",
       "10                                          [removed]     chess   1645558406  \n",
       "11  Every single time I lose at chess, I take it v...     chess   1645557940  \n",
       "12  I’m looking for papers/experiments related to ...     chess   1645557621  \n",
       "13                                                        chess   1645557073  \n",
       "14  If not, then surely at least the highest rated...     chess   1645556845  "
      ]
     },
     "execution_count": 27,
     "metadata": {},
     "output_type": "execute_result"
    }
   ],
   "source": [
    "df.head(15)"
   ]
  }
 ],
 "metadata": {
  "kernelspec": {
   "display_name": "Python 3 (ipykernel)",
   "language": "python",
   "name": "python3"
  },
  "language_info": {
   "codemirror_mode": {
    "name": "ipython",
    "version": 3
   },
   "file_extension": ".py",
   "mimetype": "text/x-python",
   "name": "python",
   "nbconvert_exporter": "python",
   "pygments_lexer": "ipython3",
   "version": "3.9.7"
  }
 },
 "nbformat": 4,
 "nbformat_minor": 5
}
