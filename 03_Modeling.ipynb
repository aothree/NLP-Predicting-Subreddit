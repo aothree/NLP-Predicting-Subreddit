{
 "cells": [
  {
   "cell_type": "code",
   "execution_count": 1,
   "id": "97ca79c1-62aa-4c07-b018-ca841ca631d8",
   "metadata": {},
   "outputs": [],
   "source": [
    "# imports\n",
    "import pandas as pd\n",
    "from sklearn.neighbors import KNeighborsClassifier\n",
    "from sklearn.model_selection import train_test_split, GridSearchCV\n",
    "from sklearn.linear_model import LogisticRegression\n",
    "from sklearn.feature_extraction.text import CountVectorizer, TfidfVectorizer\n",
    "from sklearn.pipeline import Pipeline\n",
    "from sklearn.metrics import plot_confusion_matrix\n",
    "import sklearn.metrics as metrics\n",
    "from sklearn.pipeline import FeatureUnion\n",
    "from sklearn.preprocessing import FunctionTransformer\n",
    "import numpy as np\n",
    "import matplotlib.pyplot as plt"
   ]
  },
  {
   "cell_type": "markdown",
   "id": "e88fcee1-a582-4826-bb07-26a4ac38b22e",
   "metadata": {},
   "source": [
    "## Model 1 - Logistic Regression"
   ]
  },
  {
   "cell_type": "code",
   "execution_count": 2,
   "id": "d065e431-ffb6-4ef1-82b9-9dfc3a8cb86a",
   "metadata": {},
   "outputs": [],
   "source": [
    "df = pd.read_csv('./Data/subreddit_data_post_eda.csv')"
   ]
  },
  {
   "cell_type": "code",
   "execution_count": 3,
   "id": "734fcf6a-4fe4-49fc-b9e9-1052be4eabdf",
   "metadata": {},
   "outputs": [
    {
     "data": {
      "text/html": [
       "<div>\n",
       "<style scoped>\n",
       "    .dataframe tbody tr th:only-of-type {\n",
       "        vertical-align: middle;\n",
       "    }\n",
       "\n",
       "    .dataframe tbody tr th {\n",
       "        vertical-align: top;\n",
       "    }\n",
       "\n",
       "    .dataframe thead th {\n",
       "        text-align: right;\n",
       "    }\n",
       "</style>\n",
       "<table border=\"1\" class=\"dataframe\">\n",
       "  <thead>\n",
       "    <tr style=\"text-align: right;\">\n",
       "      <th></th>\n",
       "      <th>title</th>\n",
       "      <th>selftext</th>\n",
       "      <th>subreddit</th>\n",
       "      <th>title_length</th>\n",
       "      <th>title_word_count</th>\n",
       "      <th>title_selftext</th>\n",
       "      <th>title_selftext_length</th>\n",
       "      <th>title_selftext_word_count</th>\n",
       "      <th>sentiment_compound</th>\n",
       "      <th>sentiment_negative</th>\n",
       "      <th>sentiment_neutral</th>\n",
       "      <th>sentiment_positive</th>\n",
       "    </tr>\n",
       "  </thead>\n",
       "  <tbody>\n",
       "    <tr>\n",
       "      <th>0</th>\n",
       "      <td>I was suggested to post this puzzle here ,hope...</td>\n",
       "      <td>NaN</td>\n",
       "      <td>0</td>\n",
       "      <td>65</td>\n",
       "      <td>14</td>\n",
       "      <td>I was suggested to post this puzzle here ,hope...</td>\n",
       "      <td>65</td>\n",
       "      <td>14</td>\n",
       "      <td>0.8126</td>\n",
       "      <td>0.000</td>\n",
       "      <td>0.543</td>\n",
       "      <td>0.457</td>\n",
       "    </tr>\n",
       "    <tr>\n",
       "      <th>1</th>\n",
       "      <td>Programs for analyzing and annotating my games</td>\n",
       "      <td>Hi all, \\n\\n&amp;amp;#x200B;\\n\\nI am starting to t...</td>\n",
       "      <td>0</td>\n",
       "      <td>46</td>\n",
       "      <td>7</td>\n",
       "      <td>Programs for analyzing and annotating my games...</td>\n",
       "      <td>46</td>\n",
       "      <td>7</td>\n",
       "      <td>0.0000</td>\n",
       "      <td>0.000</td>\n",
       "      <td>1.000</td>\n",
       "      <td>0.000</td>\n",
       "    </tr>\n",
       "    <tr>\n",
       "      <th>2</th>\n",
       "      <td>Who is GM Watneg on lichess?</td>\n",
       "      <td>NaN</td>\n",
       "      <td>0</td>\n",
       "      <td>28</td>\n",
       "      <td>6</td>\n",
       "      <td>Who is GM Watneg on lichess?</td>\n",
       "      <td>28</td>\n",
       "      <td>6</td>\n",
       "      <td>0.0000</td>\n",
       "      <td>0.000</td>\n",
       "      <td>1.000</td>\n",
       "      <td>0.000</td>\n",
       "    </tr>\n",
       "    <tr>\n",
       "      <th>3</th>\n",
       "      <td>Glitch in Lichess Analysis</td>\n",
       "      <td>&amp;amp;#x200B;\\n\\n[I was playing a game continua...</td>\n",
       "      <td>0</td>\n",
       "      <td>26</td>\n",
       "      <td>4</td>\n",
       "      <td>Glitch in Lichess Analysis&amp;amp;#x200B;\\n\\n[I w...</td>\n",
       "      <td>26</td>\n",
       "      <td>4</td>\n",
       "      <td>0.0000</td>\n",
       "      <td>0.000</td>\n",
       "      <td>1.000</td>\n",
       "      <td>0.000</td>\n",
       "    </tr>\n",
       "    <tr>\n",
       "      <th>4</th>\n",
       "      <td>Does anyone know what the heck a zero day that...</td>\n",
       "      <td>Someone sent me something weird about correlat...</td>\n",
       "      <td>0</td>\n",
       "      <td>162</td>\n",
       "      <td>34</td>\n",
       "      <td>Does anyone know what the heck a zero day that...</td>\n",
       "      <td>162</td>\n",
       "      <td>34</td>\n",
       "      <td>-0.5043</td>\n",
       "      <td>0.121</td>\n",
       "      <td>0.879</td>\n",
       "      <td>0.000</td>\n",
       "    </tr>\n",
       "  </tbody>\n",
       "</table>\n",
       "</div>"
      ],
      "text/plain": [
       "                                               title  \\\n",
       "0  I was suggested to post this puzzle here ,hope...   \n",
       "1     Programs for analyzing and annotating my games   \n",
       "2                       Who is GM Watneg on lichess?   \n",
       "3                         Glitch in Lichess Analysis   \n",
       "4  Does anyone know what the heck a zero day that...   \n",
       "\n",
       "                                            selftext  subreddit  title_length  \\\n",
       "0                                                NaN          0            65   \n",
       "1  Hi all, \\n\\n&amp;#x200B;\\n\\nI am starting to t...          0            46   \n",
       "2                                                NaN          0            28   \n",
       "3  &amp;#x200B;\\n\\n[I was playing a game continua...          0            26   \n",
       "4  Someone sent me something weird about correlat...          0           162   \n",
       "\n",
       "   title_word_count                                     title_selftext  \\\n",
       "0                14  I was suggested to post this puzzle here ,hope...   \n",
       "1                 7  Programs for analyzing and annotating my games...   \n",
       "2                 6                       Who is GM Watneg on lichess?   \n",
       "3                 4  Glitch in Lichess Analysis&amp;#x200B;\\n\\n[I w...   \n",
       "4                34  Does anyone know what the heck a zero day that...   \n",
       "\n",
       "   title_selftext_length  title_selftext_word_count  sentiment_compound  \\\n",
       "0                     65                         14              0.8126   \n",
       "1                     46                          7              0.0000   \n",
       "2                     28                          6              0.0000   \n",
       "3                     26                          4              0.0000   \n",
       "4                    162                         34             -0.5043   \n",
       "\n",
       "   sentiment_negative  sentiment_neutral  sentiment_positive  \n",
       "0               0.000              0.543               0.457  \n",
       "1               0.000              1.000               0.000  \n",
       "2               0.000              1.000               0.000  \n",
       "3               0.000              1.000               0.000  \n",
       "4               0.121              0.879               0.000  "
      ]
     },
     "execution_count": 3,
     "metadata": {},
     "output_type": "execute_result"
    }
   ],
   "source": [
    "df.head()"
   ]
  },
  {
   "cell_type": "code",
   "execution_count": 4,
   "id": "63d3a25f-96b2-45ba-83a5-5b315b253812",
   "metadata": {},
   "outputs": [
    {
     "data": {
      "text/plain": [
       "title                         object\n",
       "selftext                      object\n",
       "subreddit                      int64\n",
       "title_length                   int64\n",
       "title_word_count               int64\n",
       "title_selftext                object\n",
       "title_selftext_length          int64\n",
       "title_selftext_word_count      int64\n",
       "sentiment_compound           float64\n",
       "sentiment_negative           float64\n",
       "sentiment_neutral            float64\n",
       "sentiment_positive           float64\n",
       "dtype: object"
      ]
     },
     "execution_count": 4,
     "metadata": {},
     "output_type": "execute_result"
    }
   ],
   "source": [
    "df.dtypes"
   ]
  },
  {
   "cell_type": "markdown",
   "id": "fdac19a0-9717-4027-a0e5-1b4aa411da58",
   "metadata": {},
   "source": [
    "### Baseline Model"
   ]
  },
  {
   "cell_type": "code",
   "execution_count": 5,
   "id": "2d6c883c-8284-4596-8f91-0792f839ef39",
   "metadata": {},
   "outputs": [
    {
     "data": {
      "text/plain": [
       "1    0.500375\n",
       "0    0.499625\n",
       "Name: subreddit, dtype: float64"
      ]
     },
     "execution_count": 5,
     "metadata": {},
     "output_type": "execute_result"
    }
   ],
   "source": [
    "# Baseline Model.  We need to beat 50%.\n",
    "df['subreddit'].value_counts(normalize = True)"
   ]
  },
  {
   "cell_type": "code",
   "execution_count": 6,
   "id": "b6fc264a-bf13-4bea-8e65-fd408d6ff3ea",
   "metadata": {},
   "outputs": [],
   "source": [
    "# Create X and Y \n",
    "X = df.drop(columns = ['subreddit'])\n",
    "y = df['subreddit']"
   ]
  },
  {
   "cell_type": "code",
   "execution_count": 7,
   "id": "1453d53f-038b-4a15-a27d-ede4590f8de2",
   "metadata": {},
   "outputs": [],
   "source": [
    "# Train Test Split\n",
    "X_train, X_test, y_train, y_test = train_test_split(X, y, random_state = 42)"
   ]
  },
  {
   "cell_type": "code",
   "execution_count": 8,
   "id": "2be2ce12-fb5a-46fb-b29c-28a335e43543",
   "metadata": {},
   "outputs": [],
   "source": [
    "# create two functions for FeatureUnion\n",
    "def get_title(df):\n",
    "    return df['title_selftext']\n",
    "\n",
    "get_title_transformer = FunctionTransformer(get_title, validate = False)\n",
    "\n",
    "def other_columns(df):\n",
    "    return df[['title_selftext_length', 'sentiment_compound', 'title_selftext_word_count']]\n",
    "\n",
    "get_columns_transformer = FunctionTransformer(other_columns, validate = False)"
   ]
  },
  {
   "cell_type": "code",
   "execution_count": 9,
   "id": "9e5d1d5d-7300-42be-b145-a29bd4a8e792",
   "metadata": {},
   "outputs": [],
   "source": [
    "# Set up two pipelines.  \n",
    "\n",
    "pipe_cv = Pipeline([\n",
    "    ('title_transform', get_title_transformer),\n",
    "    ('vect', CountVectorizer())\n",
    "])\n",
    "\n",
    "# FeatureUnion in the second pipeline will combine the CountVectorized columns and the other features\n",
    "outer_pipe = Pipeline([\n",
    "    ('feats', FeatureUnion([\n",
    "        ('vect_pipe', pipe_cv),\n",
    "        ('other_cols', get_columns_transformer)\n",
    "    ])),\n",
    "    ('model', LogisticRegression())\n",
    "])"
   ]
  },
  {
   "cell_type": "code",
   "execution_count": 10,
   "id": "b2644459-128f-437c-ae8e-22affae580b6",
   "metadata": {
    "tags": []
   },
   "outputs": [
    {
     "name": "stdout",
     "output_type": "stream",
     "text": [
      "0.9596227045075125\n"
     ]
    },
    {
     "data": {
      "text/plain": [
       "{'feats__vect_pipe__vect__max_df': 0.9,\n",
       " 'feats__vect_pipe__vect__max_features': None,\n",
       " 'feats__vect_pipe__vect__min_df': 2,\n",
       " 'feats__vect_pipe__vect__stop_words': 'english',\n",
       " 'model__max_iter': 1000}"
      ]
     },
     "execution_count": 10,
     "metadata": {},
     "output_type": "execute_result"
    }
   ],
   "source": [
    "# GridSearch for best hyperparemeters\n",
    "param_grid = {\n",
    "    'model__max_iter': [1000],\n",
    "    'feats__vect_pipe__vect__max_features': [None, 4000, 5000],\n",
    "    'feats__vect_pipe__vect__min_df' : [2,3],\n",
    "    'feats__vect_pipe__vect__max_df' : [.90],\n",
    "    'feats__vect_pipe__vect__stop_words' : ['english', ['game', 'games', 'player', 'players']]\n",
    "    }\n",
    "gs = GridSearchCV(outer_pipe, param_grid=param_grid)\n",
    "gs.fit(X_train, y_train)\n",
    "print(gs.best_score_)\n",
    "gs.best_params_"
   ]
  },
  {
   "cell_type": "markdown",
   "id": "8e7bfddd-0c02-4ffa-9289-13548863a6b0",
   "metadata": {},
   "source": [
    "95.9% Accuracy!"
   ]
  },
  {
   "cell_type": "markdown",
   "id": "8485335c-45bf-4faa-9056-f4ba6a80d04f",
   "metadata": {
    "tags": []
   },
   "source": [
    "### Model Evaluation"
   ]
  },
  {
   "cell_type": "code",
   "execution_count": 11,
   "id": "1fb23e1a-cb77-4134-80e2-39ba5227b451",
   "metadata": {},
   "outputs": [
    {
     "data": {
      "image/png": "[encoded data removed]",
      "text/plain": [
       "<Figure size 432x288 with 2 Axes>"
      ]
     },
     "metadata": {
      "needs_background": "light"
     },
     "output_type": "display_data"
    }
   ],
   "source": [
    "plot_confusion_matrix(gs, X_test, y_test, display_labels = ['Chess', 'NBA'])\n",
    "plt.savefig(\"./graphics/chess nba confusion matrix.jpg\", bbox_inches=\"tight\", dpi=100);"
   ]
  },
  {
   "cell_type": "code",
   "execution_count": 12,
   "id": "9a7d3adb-a33c-4a38-ab47-2553a7befac2",
   "metadata": {},
   "outputs": [
    {
     "data": {
      "image/png": "[encoded data removed]",
      "text/plain": [
       "<Figure size 432x288 with 1 Axes>"
      ]
     },
     "metadata": {
      "needs_background": "light"
     },
     "output_type": "display_data"
    }
   ],
   "source": [
    "from sklearn.metrics import plot_roc_curve\n",
    "\n",
    "plot_roc_curve(gs, X_test, y_test);"
   ]
  },
  {
   "cell_type": "markdown",
   "id": "14c445c0-1eb6-4cff-b045-777c5fc8da49",
   "metadata": {},
   "source": [
    "### What are some of the words that did the best job in predicting class?"
   ]
  },
  {
   "cell_type": "code",
   "execution_count": 13,
   "id": "7bbb027d-953a-440c-a8b9-4988feb94166",
   "metadata": {},
   "outputs": [
    {
     "data": {
      "text/plain": [
       "array([[-0.20741066, -0.1333673 ,  0.07148026, ...,  0.03732919,\n",
       "        -0.16441825, -0.15840206]])"
      ]
     },
     "execution_count": 13,
     "metadata": {},
     "output_type": "execute_result"
    }
   ],
   "source": [
    "# Investigate coefficients (remember bc of logreg, we'll ultimately have to np.exp them)\n",
    "gs.best_estimator_.named_steps['model'].coef_\n",
    "# got the coefficients, now need the feature names before zipping them together."
   ]
  },
  {
   "cell_type": "code",
   "execution_count": 14,
   "id": "6ecb4194-f67e-48fb-af6b-4f649589894e",
   "metadata": {},
   "outputs": [],
   "source": [
    "a = gs.best_estimator_.named_steps['model'].coef_ # get coefficients\n",
    "b = gs.best_estimator_.named_steps['feats'].transformer_list[0][1].named_steps['vect'].get_feature_names() #get feature names\n",
    "coefs_and_names = zip(a[0], b) #zip them together\n",
    "lst = list(coefs_and_names) #turn zip object into a list\n",
    "holygrail = pd.DataFrame(lst) # turn list into a df\n",
    "holygrail[0] = np.exp(holygrail[0]) # because logistic regression puts the coefficients on a log scale, you have to do this."
   ]
  },
  {
   "cell_type": "code",
   "execution_count": 15,
   "id": "ad0a3354-e309-4413-9bcc-d5c76a1e43dc",
   "metadata": {},
   "outputs": [
    {
     "data": {
      "text/html": [
       "<div>\n",
       "<style scoped>\n",
       "    .dataframe tbody tr th:only-of-type {\n",
       "        vertical-align: middle;\n",
       "    }\n",
       "\n",
       "    .dataframe tbody tr th {\n",
       "        vertical-align: top;\n",
       "    }\n",
       "\n",
       "    .dataframe thead th {\n",
       "        text-align: right;\n",
       "    }\n",
       "</style>\n",
       "<table border=\"1\" class=\"dataframe\">\n",
       "  <thead>\n",
       "    <tr style=\"text-align: right;\">\n",
       "      <th></th>\n",
       "      <th>0</th>\n",
       "      <th>1</th>\n",
       "    </tr>\n",
       "  </thead>\n",
       "  <tbody>\n",
       "    <tr>\n",
       "      <th>0</th>\n",
       "      <td>0.812686</td>\n",
       "      <td>00</td>\n",
       "    </tr>\n",
       "    <tr>\n",
       "      <th>1</th>\n",
       "      <td>0.875144</td>\n",
       "      <td>000</td>\n",
       "    </tr>\n",
       "    <tr>\n",
       "      <th>2</th>\n",
       "      <td>1.074097</td>\n",
       "      <td>00s</td>\n",
       "    </tr>\n",
       "    <tr>\n",
       "      <th>3</th>\n",
       "      <td>0.970161</td>\n",
       "      <td>01</td>\n",
       "    </tr>\n",
       "    <tr>\n",
       "      <th>4</th>\n",
       "      <td>1.031554</td>\n",
       "      <td>02</td>\n",
       "    </tr>\n",
       "  </tbody>\n",
       "</table>\n",
       "</div>"
      ],
      "text/plain": [
       "          0    1\n",
       "0  0.812686   00\n",
       "1  0.875144  000\n",
       "2  1.074097  00s\n",
       "3  0.970161   01\n",
       "4  1.031554   02"
      ]
     },
     "execution_count": 15,
     "metadata": {},
     "output_type": "execute_result"
    }
   ],
   "source": [
    "holygrail.head()"
   ]
  },
  {
   "cell_type": "code",
   "execution_count": 16,
   "id": "1b30afa0-cc5e-4c27-9da3-8b9d0a2410ae",
   "metadata": {},
   "outputs": [
    {
     "data": {
      "text/html": [
       "<div>\n",
       "<style scoped>\n",
       "    .dataframe tbody tr th:only-of-type {\n",
       "        vertical-align: middle;\n",
       "    }\n",
       "\n",
       "    .dataframe tbody tr th {\n",
       "        vertical-align: top;\n",
       "    }\n",
       "\n",
       "    .dataframe thead th {\n",
       "        text-align: right;\n",
       "    }\n",
       "</style>\n",
       "<table border=\"1\" class=\"dataframe\">\n",
       "  <thead>\n",
       "    <tr style=\"text-align: right;\">\n",
       "      <th></th>\n",
       "      <th>0</th>\n",
       "      <th>1</th>\n",
       "    </tr>\n",
       "  </thead>\n",
       "  <tbody>\n",
       "    <tr>\n",
       "      <th>1288</th>\n",
       "      <td>0.029661</td>\n",
       "      <td>chess</td>\n",
       "    </tr>\n",
       "    <tr>\n",
       "      <th>6287</th>\n",
       "      <td>0.168288</td>\n",
       "      <td>white</td>\n",
       "    </tr>\n",
       "    <tr>\n",
       "      <th>949</th>\n",
       "      <td>0.199430</td>\n",
       "      <td>black</td>\n",
       "    </tr>\n",
       "    <tr>\n",
       "      <th>3613</th>\n",
       "      <td>0.206758</td>\n",
       "      <td>magnus</td>\n",
       "    </tr>\n",
       "    <tr>\n",
       "      <th>2871</th>\n",
       "      <td>0.210583</td>\n",
       "      <td>hikaru</td>\n",
       "    </tr>\n",
       "    <tr>\n",
       "      <th>...</th>\n",
       "      <td>...</td>\n",
       "      <td>...</td>\n",
       "    </tr>\n",
       "    <tr>\n",
       "      <th>5487</th>\n",
       "      <td>6.110826</td>\n",
       "      <td>star</td>\n",
       "    </tr>\n",
       "    <tr>\n",
       "      <th>3440</th>\n",
       "      <td>7.319260</td>\n",
       "      <td>lebron</td>\n",
       "    </tr>\n",
       "    <tr>\n",
       "      <th>2867</th>\n",
       "      <td>9.521037</td>\n",
       "      <td>highlight</td>\n",
       "    </tr>\n",
       "    <tr>\n",
       "      <th>4842</th>\n",
       "      <td>10.552410</td>\n",
       "      <td>removed</td>\n",
       "    </tr>\n",
       "    <tr>\n",
       "      <th>3925</th>\n",
       "      <td>14.501403</td>\n",
       "      <td>nba</td>\n",
       "    </tr>\n",
       "  </tbody>\n",
       "</table>\n",
       "<p>6417 rows × 2 columns</p>\n",
       "</div>"
      ],
      "text/plain": [
       "              0          1\n",
       "1288   0.029661      chess\n",
       "6287   0.168288      white\n",
       "949    0.199430      black\n",
       "3613   0.206758     magnus\n",
       "2871   0.210583     hikaru\n",
       "...         ...        ...\n",
       "5487   6.110826       star\n",
       "3440   7.319260     lebron\n",
       "2867   9.521037  highlight\n",
       "4842  10.552410    removed\n",
       "3925  14.501403        nba\n",
       "\n",
       "[6417 rows x 2 columns]"
      ]
     },
     "execution_count": 16,
     "metadata": {},
     "output_type": "execute_result"
    }
   ],
   "source": [
    "holygrail.sort_values(by = 0)"
   ]
  },
  {
   "cell_type": "markdown",
   "id": "ccd894ac-b391-41dc-a1d1-60c5c8dad805",
   "metadata": {},
   "source": [
    "For each instance of \"lebron\", its 11.7 times more likely to be the nba subreddit than the chess subreddit."
   ]
  },
  {
   "cell_type": "code",
   "execution_count": 17,
   "id": "e1bf7bb0-b71a-4ceb-b186-3e27408e03f2",
   "metadata": {},
   "outputs": [
    {
     "data": {
      "text/html": [
       "<div>\n",
       "<style scoped>\n",
       "    .dataframe tbody tr th:only-of-type {\n",
       "        vertical-align: middle;\n",
       "    }\n",
       "\n",
       "    .dataframe tbody tr th {\n",
       "        vertical-align: top;\n",
       "    }\n",
       "\n",
       "    .dataframe thead th {\n",
       "        text-align: right;\n",
       "    }\n",
       "</style>\n",
       "<table border=\"1\" class=\"dataframe\">\n",
       "  <thead>\n",
       "    <tr style=\"text-align: right;\">\n",
       "      <th></th>\n",
       "      <th>0</th>\n",
       "      <th>1</th>\n",
       "    </tr>\n",
       "  </thead>\n",
       "  <tbody>\n",
       "    <tr>\n",
       "      <th>3925</th>\n",
       "      <td>14.501403</td>\n",
       "      <td>nba</td>\n",
       "    </tr>\n",
       "    <tr>\n",
       "      <th>4842</th>\n",
       "      <td>10.552410</td>\n",
       "      <td>removed</td>\n",
       "    </tr>\n",
       "    <tr>\n",
       "      <th>2867</th>\n",
       "      <td>9.521037</td>\n",
       "      <td>highlight</td>\n",
       "    </tr>\n",
       "    <tr>\n",
       "      <th>3440</th>\n",
       "      <td>7.319260</td>\n",
       "      <td>lebron</td>\n",
       "    </tr>\n",
       "    <tr>\n",
       "      <th>5487</th>\n",
       "      <td>6.110826</td>\n",
       "      <td>star</td>\n",
       "    </tr>\n",
       "    <tr>\n",
       "      <th>845</th>\n",
       "      <td>4.303691</td>\n",
       "      <td>basketball</td>\n",
       "    </tr>\n",
       "    <tr>\n",
       "      <th>5528</th>\n",
       "      <td>4.225779</td>\n",
       "      <td>steph</td>\n",
       "    </tr>\n",
       "    <tr>\n",
       "      <th>6413</th>\n",
       "      <td>3.997741</td>\n",
       "      <td>zion</td>\n",
       "    </tr>\n",
       "    <tr>\n",
       "      <th>2791</th>\n",
       "      <td>3.705182</td>\n",
       "      <td>harden</td>\n",
       "    </tr>\n",
       "    <tr>\n",
       "      <th>5752</th>\n",
       "      <td>3.459195</td>\n",
       "      <td>team</td>\n",
       "    </tr>\n",
       "  </tbody>\n",
       "</table>\n",
       "</div>"
      ],
      "text/plain": [
       "              0           1\n",
       "3925  14.501403         nba\n",
       "4842  10.552410     removed\n",
       "2867   9.521037   highlight\n",
       "3440   7.319260      lebron\n",
       "5487   6.110826        star\n",
       "845    4.303691  basketball\n",
       "5528   4.225779       steph\n",
       "6413   3.997741        zion\n",
       "2791   3.705182      harden\n",
       "5752   3.459195        team"
      ]
     },
     "execution_count": 17,
     "metadata": {},
     "output_type": "execute_result"
    }
   ],
   "source": [
    "holygrail.sort_values(by=0, ascending=False).head(10)"
   ]
  },
  {
   "cell_type": "code",
   "execution_count": 18,
   "id": "b724c945-ea1e-4879-9aa7-1bb8783fbeb4",
   "metadata": {},
   "outputs": [],
   "source": [
    "top_ten = holygrail.sort_values(by=0, ascending=True).head(10)"
   ]
  },
  {
   "cell_type": "code",
   "execution_count": 19,
   "id": "fd19d35b-c17b-46ce-9a54-ea3a2f11280d",
   "metadata": {},
   "outputs": [
    {
     "data": {
      "image/png": "[encoded data removed]",
      "text/plain": [
       "<Figure size 576x432 with 1 Axes>"
      ]
     },
     "metadata": {
      "needs_background": "light"
     },
     "output_type": "display_data"
    }
   ],
   "source": [
    "plt.figure(figsize=(8,6))\n",
    "plt.barh(top_ten[1], top_ten[0], color='navy')\n",
    "plt.title('Best Predictors for Chess', fontdict = {'fontsize':14})\n",
    "plt.ylabel('Most Impactful Words', fontdict= {'fontsize':14})\n",
    "plt.xlabel('Coefficient', fontdict= {'fontsize':14})\n",
    "plt.savefig(\"./graphics/Best Predictors Chess.jpg\", bbox_inches=\"tight\", dpi=100)\n",
    "plt.tight_layout(); "
   ]
  },
  {
   "cell_type": "code",
   "execution_count": 20,
   "id": "5387f99a-8cf2-486c-8eeb-4d1d95e28490",
   "metadata": {},
   "outputs": [
    {
     "data": {
      "image/png": "[encoded data removed]",
      "text/plain": [
       "<Figure size 576x432 with 1 Axes>"
      ]
     },
     "metadata": {
      "needs_background": "light"
     },
     "output_type": "display_data"
    }
   ],
   "source": [
    "plt.figure(figsize=(8,6))\n",
    "best_pred_sust = holygrail.sort_values(by=0, ascending=True).tail(10)\n",
    "x = best_pred_sust[1]\n",
    "y = best_pred_sust[0]\n",
    "plt.barh(x,y, color ='navy')\n",
    "plt.xlabel('Coefficient', fontdict= {'fontsize':14})\n",
    "plt.ylabel('Most Impactful Words', fontdict= {'fontsize':14})\n",
    "plt.title('Best Predictors For NBA', fontdict = {'fontsize':16})\n",
    "plt.tight_layout()\n",
    "plt.savefig(\"./graphics/Best Predictors NBA.jpg\", bbox_inches=\"tight\", dpi=100);"
   ]
  },
  {
   "cell_type": "markdown",
   "id": "7e604663-0d23-4d3b-9f66-6f993805f025",
   "metadata": {},
   "source": [
    "### Predictions"
   ]
  },
  {
   "cell_type": "code",
   "execution_count": 21,
   "id": "b716d218-8fa8-4e3c-9497-a25b19df2c59",
   "metadata": {},
   "outputs": [],
   "source": [
    "preds = gs.predict(X_test)"
   ]
  },
  {
   "cell_type": "code",
   "execution_count": 22,
   "id": "534b4f6b-87bd-4e9b-a4d9-16e30cd9e6b3",
   "metadata": {},
   "outputs": [
    {
     "name": "stdout",
     "output_type": "stream",
     "text": [
      "              precision    recall  f1-score   support\n",
      "\n",
      "           0       0.96      0.97      0.97       519\n",
      "           1       0.97      0.95      0.96       481\n",
      "\n",
      "    accuracy                           0.96      1000\n",
      "   macro avg       0.97      0.96      0.96      1000\n",
      "weighted avg       0.97      0.96      0.96      1000\n",
      "\n"
     ]
    }
   ],
   "source": [
    "from sklearn.metrics import classification_report\n",
    "print(classification_report(y_test, preds))"
   ]
  },
  {
   "cell_type": "code",
   "execution_count": 23,
   "id": "68a7c272-7e88-4a1d-ba99-591fbb0e9806",
   "metadata": {},
   "outputs": [
    {
     "data": {
      "text/html": [
       "<div>\n",
       "<style scoped>\n",
       "    .dataframe tbody tr th:only-of-type {\n",
       "        vertical-align: middle;\n",
       "    }\n",
       "\n",
       "    .dataframe tbody tr th {\n",
       "        vertical-align: top;\n",
       "    }\n",
       "\n",
       "    .dataframe thead th {\n",
       "        text-align: right;\n",
       "    }\n",
       "</style>\n",
       "<table border=\"1\" class=\"dataframe\">\n",
       "  <thead>\n",
       "    <tr style=\"text-align: right;\">\n",
       "      <th></th>\n",
       "      <th>title</th>\n",
       "      <th>selftext</th>\n",
       "      <th>title_length</th>\n",
       "      <th>title_word_count</th>\n",
       "      <th>title_selftext</th>\n",
       "      <th>title_selftext_length</th>\n",
       "      <th>title_selftext_word_count</th>\n",
       "      <th>sentiment_compound</th>\n",
       "      <th>sentiment_negative</th>\n",
       "      <th>sentiment_neutral</th>\n",
       "      <th>sentiment_positive</th>\n",
       "      <th>subreddit</th>\n",
       "    </tr>\n",
       "  </thead>\n",
       "  <tbody>\n",
       "    <tr>\n",
       "      <th>3891</th>\n",
       "      <td>Ernie Johnson Rap put to a beat</td>\n",
       "      <td>NaN</td>\n",
       "      <td>31</td>\n",
       "      <td>7</td>\n",
       "      <td>Ernie Johnson Rap put to a beat</td>\n",
       "      <td>31</td>\n",
       "      <td>7</td>\n",
       "      <td>0.0000</td>\n",
       "      <td>0.000</td>\n",
       "      <td>1.000</td>\n",
       "      <td>0.000</td>\n",
       "      <td>1</td>\n",
       "    </tr>\n",
       "    <tr>\n",
       "      <th>3984</th>\n",
       "      <td>well I guess that's that then...</td>\n",
       "      <td>NaN</td>\n",
       "      <td>32</td>\n",
       "      <td>6</td>\n",
       "      <td>well I guess that's that then...</td>\n",
       "      <td>32</td>\n",
       "      <td>6</td>\n",
       "      <td>0.2732</td>\n",
       "      <td>0.000</td>\n",
       "      <td>0.656</td>\n",
       "      <td>0.344</td>\n",
       "      <td>1</td>\n",
       "    </tr>\n",
       "    <tr>\n",
       "      <th>3282</th>\n",
       "      <td>JJ Redick goes crazy in the new State Farm com...</td>\n",
       "      <td>NaN</td>\n",
       "      <td>55</td>\n",
       "      <td>11</td>\n",
       "      <td>JJ Redick goes crazy in the new State Farm com...</td>\n",
       "      <td>55</td>\n",
       "      <td>11</td>\n",
       "      <td>0.0857</td>\n",
       "      <td>0.183</td>\n",
       "      <td>0.609</td>\n",
       "      <td>0.208</td>\n",
       "      <td>1</td>\n",
       "    </tr>\n",
       "    <tr>\n",
       "      <th>3128</th>\n",
       "      <td>LEAKS: 40 2022-23 uniform designs have been re...</td>\n",
       "      <td>NaN</td>\n",
       "      <td>234</td>\n",
       "      <td>38</td>\n",
       "      <td>LEAKS: 40 2022-23 uniform designs have been re...</td>\n",
       "      <td>234</td>\n",
       "      <td>38</td>\n",
       "      <td>0.4404</td>\n",
       "      <td>0.000</td>\n",
       "      <td>0.927</td>\n",
       "      <td>0.073</td>\n",
       "      <td>1</td>\n",
       "    </tr>\n",
       "    <tr>\n",
       "      <th>2333</th>\n",
       "      <td>Mama where is that man</td>\n",
       "      <td>Whats the update on markieff morris? Is he jus...</td>\n",
       "      <td>22</td>\n",
       "      <td>5</td>\n",
       "      <td>Mama where is that manWhats the update on mark...</td>\n",
       "      <td>22</td>\n",
       "      <td>5</td>\n",
       "      <td>0.0000</td>\n",
       "      <td>0.000</td>\n",
       "      <td>1.000</td>\n",
       "      <td>0.000</td>\n",
       "      <td>1</td>\n",
       "    </tr>\n",
       "  </tbody>\n",
       "</table>\n",
       "</div>"
      ],
      "text/plain": [
       "                                                  title  \\\n",
       "3891                    Ernie Johnson Rap put to a beat   \n",
       "3984                   well I guess that's that then...   \n",
       "3282  JJ Redick goes crazy in the new State Farm com...   \n",
       "3128  LEAKS: 40 2022-23 uniform designs have been re...   \n",
       "2333                             Mama where is that man   \n",
       "\n",
       "                                               selftext  title_length  \\\n",
       "3891                                                NaN            31   \n",
       "3984                                                NaN            32   \n",
       "3282                                                NaN            55   \n",
       "3128                                                NaN           234   \n",
       "2333  Whats the update on markieff morris? Is he jus...            22   \n",
       "\n",
       "      title_word_count                                     title_selftext  \\\n",
       "3891                 7                    Ernie Johnson Rap put to a beat   \n",
       "3984                 6                   well I guess that's that then...   \n",
       "3282                11  JJ Redick goes crazy in the new State Farm com...   \n",
       "3128                38  LEAKS: 40 2022-23 uniform designs have been re...   \n",
       "2333                 5  Mama where is that manWhats the update on mark...   \n",
       "\n",
       "      title_selftext_length  title_selftext_word_count  sentiment_compound  \\\n",
       "3891                     31                          7              0.0000   \n",
       "3984                     32                          6              0.2732   \n",
       "3282                     55                         11              0.0857   \n",
       "3128                    234                         38              0.4404   \n",
       "2333                     22                          5              0.0000   \n",
       "\n",
       "      sentiment_negative  sentiment_neutral  sentiment_positive  subreddit  \n",
       "3891               0.000              1.000               0.000          1  \n",
       "3984               0.000              0.656               0.344          1  \n",
       "3282               0.183              0.609               0.208          1  \n",
       "3128               0.000              0.927               0.073          1  \n",
       "2333               0.000              1.000               0.000          1  "
      ]
     },
     "execution_count": 23,
     "metadata": {},
     "output_type": "execute_result"
    }
   ],
   "source": [
    "#all the documents where the model predicted incorrectly (Type I and Type II errors)\n",
    "all_errors = X_test[y_test != preds]\n",
    "# add back the class column, df['subreddit']\n",
    "all_errors = pd.merge(all_errors, df['subreddit'], left_index=True, right_index=True)\n",
    "\n",
    "all_errors.head()"
   ]
  },
  {
   "cell_type": "code",
   "execution_count": 24,
   "id": "cb2cfa10-4660-41e8-bce2-566977c7be3e",
   "metadata": {},
   "outputs": [
    {
     "data": {
      "image/png": "[encoded data removed]",
      "text/plain": [
       "<Figure size 432x288 with 1 Axes>"
      ]
     },
     "metadata": {
      "needs_background": "light"
     },
     "output_type": "display_data"
    }
   ],
   "source": [
    "all_errors['title_length'].hist();\n",
    "#if you compare this to the same histogram from the original df, the title lengths here are much shorter.  \n",
    "#the peak of the original distribution (in EDA notebook) was a title length of 50.  Here, it's a title length of ~35.\n",
    "#so a lot of the model's mistakes "
   ]
  },
  {
   "cell_type": "code",
   "execution_count": 25,
   "id": "6161c7c9-3521-49f1-b1d9-11e4103d8af5",
   "metadata": {},
   "outputs": [
    {
     "data": {
      "image/png": "[encoded data removed]",
      "text/plain": [
       "<Figure size 432x288 with 1 Axes>"
      ]
     },
     "metadata": {
      "needs_background": "light"
     },
     "output_type": "display_data"
    }
   ],
   "source": [
    "all_errors['sentiment_compound'].hist();\n",
    "#the model's mistakes seem to be primarily with posts that had a positive sentiment score"
   ]
  },
  {
   "cell_type": "code",
   "execution_count": 26,
   "id": "50466ab6-e172-4844-bd86-d577756b9665",
   "metadata": {},
   "outputs": [
    {
     "data": {
      "image/png": "[encoded data removed]",
      "text/plain": [
       "<Figure size 864x648 with 9 Axes>"
      ]
     },
     "metadata": {
      "needs_background": "light"
     },
     "output_type": "display_data"
    }
   ],
   "source": [
    "chess_misclassified = all_errors[all_errors['subreddit'] == 1]\n",
    "chess_misclassified.hist(figsize=(12,9));\n",
    "# distributions for records that were predicted to be chess, but they were nba."
   ]
  },
  {
   "cell_type": "code",
   "execution_count": 27,
   "id": "3ed67728-1be2-49bc-a4a5-f1662dfe2e82",
   "metadata": {},
   "outputs": [
    {
     "data": {
      "image/png": "[encoded data removed]",
      "text/plain": [
       "<Figure size 864x648 with 9 Axes>"
      ]
     },
     "metadata": {
      "needs_background": "light"
     },
     "output_type": "display_data"
    }
   ],
   "source": [
    "nba_misclassified = all_errors[all_errors['subreddit'] == 0]\n",
    "nba_misclassified.hist(figsize=(12,9));\n",
    "# distributions for records that were predicted to be nba, but they were chess."
   ]
  },
  {
   "cell_type": "markdown",
   "id": "248ff870-5778-4fa0-989d-099b80981bdd",
   "metadata": {},
   "source": [
    "## Model 2 - Random Forest"
   ]
  },
  {
   "cell_type": "code",
   "execution_count": 28,
   "id": "a5d503c1-a7de-4faf-9211-895388deb6c0",
   "metadata": {},
   "outputs": [],
   "source": [
    "from sklearn.ensemble import RandomForestClassifier"
   ]
  },
  {
   "cell_type": "code",
   "execution_count": 29,
   "id": "e334e572-e66a-4b4f-9b27-a7d991a72309",
   "metadata": {
    "tags": []
   },
   "outputs": [
    {
     "data": {
      "text/html": [
       "<div>\n",
       "<style scoped>\n",
       "    .dataframe tbody tr th:only-of-type {\n",
       "        vertical-align: middle;\n",
       "    }\n",
       "\n",
       "    .dataframe tbody tr th {\n",
       "        vertical-align: top;\n",
       "    }\n",
       "\n",
       "    .dataframe thead th {\n",
       "        text-align: right;\n",
       "    }\n",
       "</style>\n",
       "<table border=\"1\" class=\"dataframe\">\n",
       "  <thead>\n",
       "    <tr style=\"text-align: right;\">\n",
       "      <th></th>\n",
       "      <th>title</th>\n",
       "      <th>selftext</th>\n",
       "      <th>subreddit</th>\n",
       "      <th>title_length</th>\n",
       "      <th>title_word_count</th>\n",
       "      <th>title_selftext</th>\n",
       "      <th>title_selftext_length</th>\n",
       "      <th>title_selftext_word_count</th>\n",
       "      <th>sentiment_compound</th>\n",
       "      <th>sentiment_negative</th>\n",
       "      <th>sentiment_neutral</th>\n",
       "      <th>sentiment_positive</th>\n",
       "    </tr>\n",
       "  </thead>\n",
       "  <tbody>\n",
       "    <tr>\n",
       "      <th>0</th>\n",
       "      <td>I was suggested to post this puzzle here ,hope...</td>\n",
       "      <td>NaN</td>\n",
       "      <td>0</td>\n",
       "      <td>65</td>\n",
       "      <td>14</td>\n",
       "      <td>I was suggested to post this puzzle here ,hope...</td>\n",
       "      <td>65</td>\n",
       "      <td>14</td>\n",
       "      <td>0.8126</td>\n",
       "      <td>0.000</td>\n",
       "      <td>0.543</td>\n",
       "      <td>0.457</td>\n",
       "    </tr>\n",
       "    <tr>\n",
       "      <th>1</th>\n",
       "      <td>Programs for analyzing and annotating my games</td>\n",
       "      <td>Hi all, \\n\\n&amp;amp;#x200B;\\n\\nI am starting to t...</td>\n",
       "      <td>0</td>\n",
       "      <td>46</td>\n",
       "      <td>7</td>\n",
       "      <td>Programs for analyzing and annotating my games...</td>\n",
       "      <td>46</td>\n",
       "      <td>7</td>\n",
       "      <td>0.0000</td>\n",
       "      <td>0.000</td>\n",
       "      <td>1.000</td>\n",
       "      <td>0.000</td>\n",
       "    </tr>\n",
       "    <tr>\n",
       "      <th>2</th>\n",
       "      <td>Who is GM Watneg on lichess?</td>\n",
       "      <td>NaN</td>\n",
       "      <td>0</td>\n",
       "      <td>28</td>\n",
       "      <td>6</td>\n",
       "      <td>Who is GM Watneg on lichess?</td>\n",
       "      <td>28</td>\n",
       "      <td>6</td>\n",
       "      <td>0.0000</td>\n",
       "      <td>0.000</td>\n",
       "      <td>1.000</td>\n",
       "      <td>0.000</td>\n",
       "    </tr>\n",
       "    <tr>\n",
       "      <th>3</th>\n",
       "      <td>Glitch in Lichess Analysis</td>\n",
       "      <td>&amp;amp;#x200B;\\n\\n[I was playing a game continua...</td>\n",
       "      <td>0</td>\n",
       "      <td>26</td>\n",
       "      <td>4</td>\n",
       "      <td>Glitch in Lichess Analysis&amp;amp;#x200B;\\n\\n[I w...</td>\n",
       "      <td>26</td>\n",
       "      <td>4</td>\n",
       "      <td>0.0000</td>\n",
       "      <td>0.000</td>\n",
       "      <td>1.000</td>\n",
       "      <td>0.000</td>\n",
       "    </tr>\n",
       "    <tr>\n",
       "      <th>4</th>\n",
       "      <td>Does anyone know what the heck a zero day that...</td>\n",
       "      <td>Someone sent me something weird about correlat...</td>\n",
       "      <td>0</td>\n",
       "      <td>162</td>\n",
       "      <td>34</td>\n",
       "      <td>Does anyone know what the heck a zero day that...</td>\n",
       "      <td>162</td>\n",
       "      <td>34</td>\n",
       "      <td>-0.5043</td>\n",
       "      <td>0.121</td>\n",
       "      <td>0.879</td>\n",
       "      <td>0.000</td>\n",
       "    </tr>\n",
       "  </tbody>\n",
       "</table>\n",
       "</div>"
      ],
      "text/plain": [
       "                                               title  \\\n",
       "0  I was suggested to post this puzzle here ,hope...   \n",
       "1     Programs for analyzing and annotating my games   \n",
       "2                       Who is GM Watneg on lichess?   \n",
       "3                         Glitch in Lichess Analysis   \n",
       "4  Does anyone know what the heck a zero day that...   \n",
       "\n",
       "                                            selftext  subreddit  title_length  \\\n",
       "0                                                NaN          0            65   \n",
       "1  Hi all, \\n\\n&amp;#x200B;\\n\\nI am starting to t...          0            46   \n",
       "2                                                NaN          0            28   \n",
       "3  &amp;#x200B;\\n\\n[I was playing a game continua...          0            26   \n",
       "4  Someone sent me something weird about correlat...          0           162   \n",
       "\n",
       "   title_word_count                                     title_selftext  \\\n",
       "0                14  I was suggested to post this puzzle here ,hope...   \n",
       "1                 7  Programs for analyzing and annotating my games...   \n",
       "2                 6                       Who is GM Watneg on lichess?   \n",
       "3                 4  Glitch in Lichess Analysis&amp;#x200B;\\n\\n[I w...   \n",
       "4                34  Does anyone know what the heck a zero day that...   \n",
       "\n",
       "   title_selftext_length  title_selftext_word_count  sentiment_compound  \\\n",
       "0                     65                         14              0.8126   \n",
       "1                     46                          7              0.0000   \n",
       "2                     28                          6              0.0000   \n",
       "3                     26                          4              0.0000   \n",
       "4                    162                         34             -0.5043   \n",
       "\n",
       "   sentiment_negative  sentiment_neutral  sentiment_positive  \n",
       "0               0.000              0.543               0.457  \n",
       "1               0.000              1.000               0.000  \n",
       "2               0.000              1.000               0.000  \n",
       "3               0.000              1.000               0.000  \n",
       "4               0.121              0.879               0.000  "
      ]
     },
     "execution_count": 29,
     "metadata": {},
     "output_type": "execute_result"
    }
   ],
   "source": [
    "df = pd.read_csv('./Data/subreddit_data_post_eda.csv')\n",
    "df.head()"
   ]
  },
  {
   "cell_type": "code",
   "execution_count": 30,
   "id": "7569f529-33f7-4c4d-979f-2404c08ac7c1",
   "metadata": {},
   "outputs": [
    {
     "data": {
      "text/plain": [
       "1    0.500375\n",
       "0    0.499625\n",
       "Name: subreddit, dtype: float64"
      ]
     },
     "execution_count": 30,
     "metadata": {},
     "output_type": "execute_result"
    }
   ],
   "source": [
    "# Baseline Model.  We need to beat 50%.\n",
    "df['subreddit'].value_counts(normalize = True)"
   ]
  },
  {
   "cell_type": "code",
   "execution_count": 31,
   "id": "99728c40-b1ce-4b59-a7db-379c501d3fcc",
   "metadata": {},
   "outputs": [],
   "source": [
    "# Create X and Y for CountVectorizer\n",
    "\n",
    "X = df['title_selftext']\n",
    "y = df['subreddit']"
   ]
  },
  {
   "cell_type": "code",
   "execution_count": 32,
   "id": "03b79aa1-9e4f-417b-9128-f3537c6f5758",
   "metadata": {},
   "outputs": [],
   "source": [
    "# Train Test Split\n",
    "X_train, X_test, y_train, y_test = train_test_split(X, y, random_state = 42)"
   ]
  },
  {
   "cell_type": "code",
   "execution_count": 33,
   "id": "131236cc-ebeb-469d-b9de-53f32c8ef132",
   "metadata": {},
   "outputs": [],
   "source": [
    "# Create Pipeline\n",
    "pipe = Pipeline([\n",
    "    ('vect', CountVectorizer()),\n",
    "    ('model', RandomForestClassifier())\n",
    "])"
   ]
  },
  {
   "cell_type": "code",
   "execution_count": 34,
   "id": "6fee6084-5534-4c89-87f8-938348d30e7d",
   "metadata": {},
   "outputs": [
    {
     "data": {
      "text/plain": [
       "0.958"
      ]
     },
     "execution_count": 34,
     "metadata": {},
     "output_type": "execute_result"
    }
   ],
   "source": [
    "pipe.fit(X_train, y_train)\n",
    "pipe.score(X_test, y_test)"
   ]
  },
  {
   "cell_type": "code",
   "execution_count": 35,
   "id": "961f61ce-678e-48eb-ba92-289a7506d70a",
   "metadata": {
    "tags": []
   },
   "outputs": [
    {
     "name": "stdout",
     "output_type": "stream",
     "text": [
      "0.9529493600445186\n"
     ]
    },
    {
     "data": {
      "text/plain": [
       "{'vect__max_features': None, 'vect__min_df': 3, 'vect__stop_words': 'english'}"
      ]
     },
     "execution_count": 35,
     "metadata": {},
     "output_type": "execute_result"
    }
   ],
   "source": [
    "param_grid = {\n",
    "    'vect__stop_words': ['english', None],\n",
    "    'vect__max_features': [None, 4000, 5000],\n",
    "    'vect__min_df' : [2,3]\n",
    "    # 'vect__max_df' : [.95],\n",
    "    # 'vect__ngram_range' : [(1,1),(1,2)]\n",
    "}\n",
    "gs = GridSearchCV(pipe, param_grid=param_grid)\n",
    "gs.fit(X_train, y_train)\n",
    "print(gs.best_score_)\n",
    "gs.best_params_"
   ]
  },
  {
   "cell_type": "markdown",
   "id": "e61ad86c-45e9-4727-bc14-7b92f64661d9",
   "metadata": {},
   "source": [
    "### Model Evaluation"
   ]
  },
  {
   "cell_type": "markdown",
   "id": "ef0dccc1-dabd-4f9d-b635-03cf3ad6e3f5",
   "metadata": {},
   "source": [
    "95.5% accuracy.  Not quite as good as the Logistic Regression model."
   ]
  },
  {
   "cell_type": "code",
   "execution_count": 36,
   "id": "60d52b98-6182-4074-b412-05c0308109b4",
   "metadata": {},
   "outputs": [
    {
     "data": {
      "text/plain": [
       "<sklearn.metrics._plot.confusion_matrix.ConfusionMatrixDisplay at 0x1429fd0dd00>"
      ]
     },
     "execution_count": 36,
     "metadata": {},
     "output_type": "execute_result"
    },
    {
     "data": {
      "image/png": "[encoded data removed]",
      "text/plain": [
       "<Figure size 432x288 with 2 Axes>"
      ]
     },
     "metadata": {
      "needs_background": "light"
     },
     "output_type": "display_data"
    }
   ],
   "source": [
    "plot_confusion_matrix(gs, X_test, y_test)\n",
    "# plt.savefig(\"./graphics/chess nba confusion matrix.jpg\", bbox_inches=\"tight\", dpi=100);"
   ]
  },
  {
   "cell_type": "code",
   "execution_count": 37,
   "id": "1846e4d8-aa90-4ca4-a01d-6bacff0cd9c0",
   "metadata": {},
   "outputs": [
    {
     "name": "stdout",
     "output_type": "stream",
     "text": [
      "              precision    recall  f1-score   support\n",
      "\n",
      "           0       0.96      0.97      0.97       519\n",
      "           1       0.97      0.95      0.96       481\n",
      "\n",
      "    accuracy                           0.96      1000\n",
      "   macro avg       0.97      0.96      0.96      1000\n",
      "weighted avg       0.97      0.96      0.96      1000\n",
      "\n"
     ]
    }
   ],
   "source": [
    "from sklearn.metrics import classification_report\n",
    "print(classification_report(y_test, preds))"
   ]
  },
  {
   "cell_type": "code",
   "execution_count": 38,
   "id": "0bc9484c-7b3e-448a-b6eb-84847384ea8c",
   "metadata": {},
   "outputs": [
    {
     "data": {
      "image/png": "[encoded data removed]",
      "text/plain": [
       "<Figure size 432x288 with 1 Axes>"
      ]
     },
     "metadata": {
      "needs_background": "light"
     },
     "output_type": "display_data"
    }
   ],
   "source": [
    "from sklearn.metrics import plot_roc_curve\n",
    "\n",
    "plot_roc_curve(gs, X_test, y_test);"
   ]
  },
  {
   "cell_type": "code",
   "execution_count": 39,
   "id": "0de8f5f4-1534-4520-a3b6-535170fa616b",
   "metadata": {},
   "outputs": [],
   "source": [
    "a = gs.best_estimator_._final_estimator.feature_importances_ #get coefficients\n",
    "b = gs.best_estimator_['vect'].get_feature_names() #get feature names\n",
    "zip_object = zip(a,b) # zip coefficients and feature names together\n",
    "lst = list(zip_object) # save to list\n",
    "holygrail = pd.DataFrame(lst) # convert that list to data frame"
   ]
  },
  {
   "cell_type": "code",
   "execution_count": 40,
   "id": "da7a6534-39e9-491c-b792-b8ce88810267",
   "metadata": {},
   "outputs": [
    {
     "data": {
      "text/html": [
       "<div>\n",
       "<style scoped>\n",
       "    .dataframe tbody tr th:only-of-type {\n",
       "        vertical-align: middle;\n",
       "    }\n",
       "\n",
       "    .dataframe tbody tr th {\n",
       "        vertical-align: top;\n",
       "    }\n",
       "\n",
       "    .dataframe thead th {\n",
       "        text-align: right;\n",
       "    }\n",
       "</style>\n",
       "<table border=\"1\" class=\"dataframe\">\n",
       "  <thead>\n",
       "    <tr style=\"text-align: right;\">\n",
       "      <th></th>\n",
       "      <th>0</th>\n",
       "      <th>1</th>\n",
       "    </tr>\n",
       "  </thead>\n",
       "  <tbody>\n",
       "    <tr>\n",
       "      <th>3575</th>\n",
       "      <td>0.011660</td>\n",
       "      <td>season</td>\n",
       "    </tr>\n",
       "    <tr>\n",
       "      <th>4366</th>\n",
       "      <td>0.014826</td>\n",
       "      <td>white</td>\n",
       "    </tr>\n",
       "    <tr>\n",
       "      <th>659</th>\n",
       "      <td>0.015158</td>\n",
       "      <td>black</td>\n",
       "    </tr>\n",
       "    <tr>\n",
       "      <th>1996</th>\n",
       "      <td>0.019619</td>\n",
       "      <td>highlight</td>\n",
       "    </tr>\n",
       "    <tr>\n",
       "      <th>3993</th>\n",
       "      <td>0.022638</td>\n",
       "      <td>team</td>\n",
       "    </tr>\n",
       "    <tr>\n",
       "      <th>3803</th>\n",
       "      <td>0.025493</td>\n",
       "      <td>star</td>\n",
       "    </tr>\n",
       "    <tr>\n",
       "      <th>2385</th>\n",
       "      <td>0.026691</td>\n",
       "      <td>lebron</td>\n",
       "    </tr>\n",
       "    <tr>\n",
       "      <th>3369</th>\n",
       "      <td>0.039535</td>\n",
       "      <td>removed</td>\n",
       "    </tr>\n",
       "    <tr>\n",
       "      <th>2743</th>\n",
       "      <td>0.052568</td>\n",
       "      <td>nba</td>\n",
       "    </tr>\n",
       "    <tr>\n",
       "      <th>903</th>\n",
       "      <td>0.065000</td>\n",
       "      <td>chess</td>\n",
       "    </tr>\n",
       "  </tbody>\n",
       "</table>\n",
       "</div>"
      ],
      "text/plain": [
       "             0          1\n",
       "3575  0.011660     season\n",
       "4366  0.014826      white\n",
       "659   0.015158      black\n",
       "1996  0.019619  highlight\n",
       "3993  0.022638       team\n",
       "3803  0.025493       star\n",
       "2385  0.026691     lebron\n",
       "3369  0.039535    removed\n",
       "2743  0.052568        nba\n",
       "903   0.065000      chess"
      ]
     },
     "execution_count": 40,
     "metadata": {},
     "output_type": "execute_result"
    }
   ],
   "source": [
    "holygrail.sort_values(by=0, ascending=True).tail(10)"
   ]
  }
 ],
 "metadata": {
  "kernelspec": {
   "display_name": "Python 3 (ipykernel)",
   "language": "python",
   "name": "python3"
  },
  "language_info": {
   "codemirror_mode": {
    "name": "ipython",
    "version": 3
   },
   "file_extension": ".py",
   "mimetype": "text/x-python",
   "name": "python",
   "nbconvert_exporter": "python",
   "pygments_lexer": "ipython3",
   "version": "3.9.7"
  }
 },
 "nbformat": 4,
 "nbformat_minor": 5
}
